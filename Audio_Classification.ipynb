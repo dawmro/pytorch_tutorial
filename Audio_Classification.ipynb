{
  "nbformat": 4,
  "nbformat_minor": 0,
  "metadata": {
    "colab": {
      "provenance": [],
      "gpuType": "T4",
      "authorship_tag": "ABX9TyPPLHBrWqXglmGzKoqhP2iY",
      "include_colab_link": true
    },
    "kernelspec": {
      "name": "python3",
      "display_name": "Python 3"
    },
    "language_info": {
      "name": "python"
    },
    "accelerator": "GPU"
  },
  "cells": [
    {
      "cell_type": "markdown",
      "metadata": {
        "id": "view-in-github",
        "colab_type": "text"
      },
      "source": [
        "<a href=\"https://colab.research.google.com/github/dawmro/pytorch_tutorial/blob/main/Audio_Classification.ipynb\" target=\"_parent\"><img src=\"https://colab.research.google.com/assets/colab-badge.svg\" alt=\"Open In Colab\"/></a>"
      ]
    },
    {
      "cell_type": "code",
      "source": [
        "!nvidia-smi"
      ],
      "metadata": {
        "colab": {
          "base_uri": "https://localhost:8080/"
        },
        "id": "LGIFmCJcjaFF",
        "outputId": "c17465a2-3944-473f-bc42-05cac4f715d6"
      },
      "execution_count": 1,
      "outputs": [
        {
          "output_type": "stream",
          "name": "stdout",
          "text": [
            "Wed Apr  2 22:09:57 2025       \n",
            "+-----------------------------------------------------------------------------------------+\n",
            "| NVIDIA-SMI 550.54.15              Driver Version: 550.54.15      CUDA Version: 12.4     |\n",
            "|-----------------------------------------+------------------------+----------------------+\n",
            "| GPU  Name                 Persistence-M | Bus-Id          Disp.A | Volatile Uncorr. ECC |\n",
            "| Fan  Temp   Perf          Pwr:Usage/Cap |           Memory-Usage | GPU-Util  Compute M. |\n",
            "|                                         |                        |               MIG M. |\n",
            "|=========================================+========================+======================|\n",
            "|   0  Tesla T4                       Off |   00000000:00:04.0 Off |                    0 |\n",
            "| N/A   38C    P8              9W /   70W |       0MiB /  15360MiB |      0%      Default |\n",
            "|                                         |                        |                  N/A |\n",
            "+-----------------------------------------+------------------------+----------------------+\n",
            "                                                                                         \n",
            "+-----------------------------------------------------------------------------------------+\n",
            "| Processes:                                                                              |\n",
            "|  GPU   GI   CI        PID   Type   Process name                              GPU Memory |\n",
            "|        ID   ID                                                               Usage      |\n",
            "|=========================================================================================|\n",
            "|  No running processes found                                                             |\n",
            "+-----------------------------------------------------------------------------------------+\n"
          ]
        }
      ]
    },
    {
      "cell_type": "markdown",
      "source": [
        "# Initializations and Dataset Download"
      ],
      "metadata": {
        "id": "FJFKQpv_i4v5"
      }
    },
    {
      "cell_type": "code",
      "execution_count": 2,
      "metadata": {
        "colab": {
          "base_uri": "https://localhost:8080/"
        },
        "id": "EGFi5WE3i1D5",
        "outputId": "999c9450-dbc9-479c-f7c8-832895f4f42e"
      },
      "outputs": [
        {
          "output_type": "stream",
          "name": "stdout",
          "text": [
            "Collecting opendatasets\n",
            "  Downloading opendatasets-0.1.22-py3-none-any.whl.metadata (9.2 kB)\n",
            "Requirement already satisfied: tqdm in /usr/local/lib/python3.11/dist-packages (from opendatasets) (4.67.1)\n",
            "Requirement already satisfied: kaggle in /usr/local/lib/python3.11/dist-packages (from opendatasets) (1.7.4.2)\n",
            "Requirement already satisfied: click in /usr/local/lib/python3.11/dist-packages (from opendatasets) (8.1.8)\n",
            "Requirement already satisfied: bleach in /usr/local/lib/python3.11/dist-packages (from kaggle->opendatasets) (6.2.0)\n",
            "Requirement already satisfied: certifi>=14.05.14 in /usr/local/lib/python3.11/dist-packages (from kaggle->opendatasets) (2025.1.31)\n",
            "Requirement already satisfied: charset-normalizer in /usr/local/lib/python3.11/dist-packages (from kaggle->opendatasets) (3.4.1)\n",
            "Requirement already satisfied: idna in /usr/local/lib/python3.11/dist-packages (from kaggle->opendatasets) (3.10)\n",
            "Requirement already satisfied: protobuf in /usr/local/lib/python3.11/dist-packages (from kaggle->opendatasets) (5.29.4)\n",
            "Requirement already satisfied: python-dateutil>=2.5.3 in /usr/local/lib/python3.11/dist-packages (from kaggle->opendatasets) (2.8.2)\n",
            "Requirement already satisfied: python-slugify in /usr/local/lib/python3.11/dist-packages (from kaggle->opendatasets) (8.0.4)\n",
            "Requirement already satisfied: requests in /usr/local/lib/python3.11/dist-packages (from kaggle->opendatasets) (2.32.3)\n",
            "Requirement already satisfied: setuptools>=21.0.0 in /usr/local/lib/python3.11/dist-packages (from kaggle->opendatasets) (75.2.0)\n",
            "Requirement already satisfied: six>=1.10 in /usr/local/lib/python3.11/dist-packages (from kaggle->opendatasets) (1.17.0)\n",
            "Requirement already satisfied: text-unidecode in /usr/local/lib/python3.11/dist-packages (from kaggle->opendatasets) (1.3)\n",
            "Requirement already satisfied: urllib3>=1.15.1 in /usr/local/lib/python3.11/dist-packages (from kaggle->opendatasets) (2.3.0)\n",
            "Requirement already satisfied: webencodings in /usr/local/lib/python3.11/dist-packages (from kaggle->opendatasets) (0.5.1)\n",
            "Downloading opendatasets-0.1.22-py3-none-any.whl (15 kB)\n",
            "Installing collected packages: opendatasets\n",
            "Successfully installed opendatasets-0.1.22\n"
          ]
        }
      ],
      "source": [
        "!pip install opendatasets"
      ]
    },
    {
      "cell_type": "code",
      "source": [
        "import opendatasets as od\n",
        "od.download(\"https://www.kaggle.com/datasets/mohammedalrajeh/quran-recitations-for-audio-classification\")"
      ],
      "metadata": {
        "colab": {
          "base_uri": "https://localhost:8080/"
        },
        "id": "68qP8Rzdi9YU",
        "outputId": "f51e0102-66c3-4eed-cca1-d3acf8f68839"
      },
      "execution_count": 3,
      "outputs": [
        {
          "output_type": "stream",
          "name": "stdout",
          "text": [
            "Please provide your Kaggle credentials to download this dataset. Learn more: http://bit.ly/kaggle-creds\n",
            "Your Kaggle username: dmrotek111@gmail.com\n",
            "Your Kaggle Key: ··········\n",
            "Dataset URL: https://www.kaggle.com/datasets/mohammedalrajeh/quran-recitations-for-audio-classification\n"
          ]
        }
      ]
    },
    {
      "cell_type": "markdown",
      "source": [
        "# 2. Imports"
      ],
      "metadata": {
        "id": "QcYUzLlbjOmr"
      }
    },
    {
      "cell_type": "code",
      "source": [
        "import torch # Main PyTorch Library\n",
        "from torch import nn # Used for creating the layers and loss function\n",
        "from torch.optim import Adam # Adam Optimizer\n",
        "import librosa # Library that is used to read and process audio files\n",
        "from torch.utils.data import Dataset, DataLoader # Dataset class and DataLoader for creating the objects\n",
        "from sklearn.preprocessing import LabelEncoder # Label Encoder to encode the classes from strings to numbers\n",
        "import matplotlib.pyplot as plt # Used for visualizing the images and plotting the training progress\n",
        "import pandas as pd # Used to read/create dataframes (csv) and process tabular data\n",
        "import numpy as np # preprocessing and numerical/mathematical operations\n",
        "import os # Used to read the images path from the directory\n",
        "import time # Used to calculate time for each epoch or any processing time in seconds\n",
        "from skimage.transform import resize # Used to resize the images and we will use it to resize audio waves\n",
        "\n",
        "# detect the GPU if any, if not use CPU, change \"cuda\" to \"mps\" if you have a mac\n",
        "device = \"cuda\" if torch.cuda.is_available() else \"cpu\"\n",
        "print(device)"
      ],
      "metadata": {
        "colab": {
          "base_uri": "https://localhost:8080/"
        },
        "id": "XlCd7_RyjBg7",
        "outputId": "ed889d99-64e7-46a6-e656-5d8c3e011022"
      },
      "execution_count": 4,
      "outputs": [
        {
          "output_type": "stream",
          "name": "stdout",
          "text": [
            "cuda\n"
          ]
        }
      ]
    },
    {
      "cell_type": "markdown",
      "source": [
        "# 3. Data"
      ],
      "metadata": {
        "id": "u3TOUbw2jk86"
      }
    },
    {
      "cell_type": "code",
      "source": [
        "data_df = pd.read_csv(\"/content/quran-recitations-for-audio-classification/files_paths.csv\") # Read the original csv as a dataframe\n",
        "\n",
        "data_df['FilePath'] = '/content/quran-recitations-for-audio-classification/Dataset/' + data_df['FilePath'].str[1:] # Modify the paths in the dataframe\n",
        "\n",
        "\n",
        "data_df.head() # Visualize the first 5 rows"
      ],
      "metadata": {
        "colab": {
          "base_uri": "https://localhost:8080/",
          "height": 206
        },
        "id": "QZkMO0GajSqb",
        "outputId": "8a4908f2-b690-43f8-aff6-9d9aff0cbae9"
      },
      "execution_count": 5,
      "outputs": [
        {
          "output_type": "execute_result",
          "data": {
            "text/plain": [
              "                                            FilePath               Class\n",
              "0  /content/quran-recitations-for-audio-classific...  Mohammed_Aluhaidan\n",
              "1  /content/quran-recitations-for-audio-classific...  Mohammed_Aluhaidan\n",
              "2  /content/quran-recitations-for-audio-classific...  Mohammed_Aluhaidan\n",
              "3  /content/quran-recitations-for-audio-classific...  Mohammed_Aluhaidan\n",
              "4  /content/quran-recitations-for-audio-classific...  Mohammed_Aluhaidan"
            ],
            "text/html": [
              "\n",
              "  <div id=\"df-576d19cd-32fe-49e3-928d-56d84a040737\" class=\"colab-df-container\">\n",
              "    <div>\n",
              "<style scoped>\n",
              "    .dataframe tbody tr th:only-of-type {\n",
              "        vertical-align: middle;\n",
              "    }\n",
              "\n",
              "    .dataframe tbody tr th {\n",
              "        vertical-align: top;\n",
              "    }\n",
              "\n",
              "    .dataframe thead th {\n",
              "        text-align: right;\n",
              "    }\n",
              "</style>\n",
              "<table border=\"1\" class=\"dataframe\">\n",
              "  <thead>\n",
              "    <tr style=\"text-align: right;\">\n",
              "      <th></th>\n",
              "      <th>FilePath</th>\n",
              "      <th>Class</th>\n",
              "    </tr>\n",
              "  </thead>\n",
              "  <tbody>\n",
              "    <tr>\n",
              "      <th>0</th>\n",
              "      <td>/content/quran-recitations-for-audio-classific...</td>\n",
              "      <td>Mohammed_Aluhaidan</td>\n",
              "    </tr>\n",
              "    <tr>\n",
              "      <th>1</th>\n",
              "      <td>/content/quran-recitations-for-audio-classific...</td>\n",
              "      <td>Mohammed_Aluhaidan</td>\n",
              "    </tr>\n",
              "    <tr>\n",
              "      <th>2</th>\n",
              "      <td>/content/quran-recitations-for-audio-classific...</td>\n",
              "      <td>Mohammed_Aluhaidan</td>\n",
              "    </tr>\n",
              "    <tr>\n",
              "      <th>3</th>\n",
              "      <td>/content/quran-recitations-for-audio-classific...</td>\n",
              "      <td>Mohammed_Aluhaidan</td>\n",
              "    </tr>\n",
              "    <tr>\n",
              "      <th>4</th>\n",
              "      <td>/content/quran-recitations-for-audio-classific...</td>\n",
              "      <td>Mohammed_Aluhaidan</td>\n",
              "    </tr>\n",
              "  </tbody>\n",
              "</table>\n",
              "</div>\n",
              "    <div class=\"colab-df-buttons\">\n",
              "\n",
              "  <div class=\"colab-df-container\">\n",
              "    <button class=\"colab-df-convert\" onclick=\"convertToInteractive('df-576d19cd-32fe-49e3-928d-56d84a040737')\"\n",
              "            title=\"Convert this dataframe to an interactive table.\"\n",
              "            style=\"display:none;\">\n",
              "\n",
              "  <svg xmlns=\"http://www.w3.org/2000/svg\" height=\"24px\" viewBox=\"0 -960 960 960\">\n",
              "    <path d=\"M120-120v-720h720v720H120Zm60-500h600v-160H180v160Zm220 220h160v-160H400v160Zm0 220h160v-160H400v160ZM180-400h160v-160H180v160Zm440 0h160v-160H620v160ZM180-180h160v-160H180v160Zm440 0h160v-160H620v160Z\"/>\n",
              "  </svg>\n",
              "    </button>\n",
              "\n",
              "  <style>\n",
              "    .colab-df-container {\n",
              "      display:flex;\n",
              "      gap: 12px;\n",
              "    }\n",
              "\n",
              "    .colab-df-convert {\n",
              "      background-color: #E8F0FE;\n",
              "      border: none;\n",
              "      border-radius: 50%;\n",
              "      cursor: pointer;\n",
              "      display: none;\n",
              "      fill: #1967D2;\n",
              "      height: 32px;\n",
              "      padding: 0 0 0 0;\n",
              "      width: 32px;\n",
              "    }\n",
              "\n",
              "    .colab-df-convert:hover {\n",
              "      background-color: #E2EBFA;\n",
              "      box-shadow: 0px 1px 2px rgba(60, 64, 67, 0.3), 0px 1px 3px 1px rgba(60, 64, 67, 0.15);\n",
              "      fill: #174EA6;\n",
              "    }\n",
              "\n",
              "    .colab-df-buttons div {\n",
              "      margin-bottom: 4px;\n",
              "    }\n",
              "\n",
              "    [theme=dark] .colab-df-convert {\n",
              "      background-color: #3B4455;\n",
              "      fill: #D2E3FC;\n",
              "    }\n",
              "\n",
              "    [theme=dark] .colab-df-convert:hover {\n",
              "      background-color: #434B5C;\n",
              "      box-shadow: 0px 1px 3px 1px rgba(0, 0, 0, 0.15);\n",
              "      filter: drop-shadow(0px 1px 2px rgba(0, 0, 0, 0.3));\n",
              "      fill: #FFFFFF;\n",
              "    }\n",
              "  </style>\n",
              "\n",
              "    <script>\n",
              "      const buttonEl =\n",
              "        document.querySelector('#df-576d19cd-32fe-49e3-928d-56d84a040737 button.colab-df-convert');\n",
              "      buttonEl.style.display =\n",
              "        google.colab.kernel.accessAllowed ? 'block' : 'none';\n",
              "\n",
              "      async function convertToInteractive(key) {\n",
              "        const element = document.querySelector('#df-576d19cd-32fe-49e3-928d-56d84a040737');\n",
              "        const dataTable =\n",
              "          await google.colab.kernel.invokeFunction('convertToInteractive',\n",
              "                                                    [key], {});\n",
              "        if (!dataTable) return;\n",
              "\n",
              "        const docLinkHtml = 'Like what you see? Visit the ' +\n",
              "          '<a target=\"_blank\" href=https://colab.research.google.com/notebooks/data_table.ipynb>data table notebook</a>'\n",
              "          + ' to learn more about interactive tables.';\n",
              "        element.innerHTML = '';\n",
              "        dataTable['output_type'] = 'display_data';\n",
              "        await google.colab.output.renderOutput(dataTable, element);\n",
              "        const docLink = document.createElement('div');\n",
              "        docLink.innerHTML = docLinkHtml;\n",
              "        element.appendChild(docLink);\n",
              "      }\n",
              "    </script>\n",
              "  </div>\n",
              "\n",
              "\n",
              "<div id=\"df-de28c74c-8a52-4828-92be-4da652d88afd\">\n",
              "  <button class=\"colab-df-quickchart\" onclick=\"quickchart('df-de28c74c-8a52-4828-92be-4da652d88afd')\"\n",
              "            title=\"Suggest charts\"\n",
              "            style=\"display:none;\">\n",
              "\n",
              "<svg xmlns=\"http://www.w3.org/2000/svg\" height=\"24px\"viewBox=\"0 0 24 24\"\n",
              "     width=\"24px\">\n",
              "    <g>\n",
              "        <path d=\"M19 3H5c-1.1 0-2 .9-2 2v14c0 1.1.9 2 2 2h14c1.1 0 2-.9 2-2V5c0-1.1-.9-2-2-2zM9 17H7v-7h2v7zm4 0h-2V7h2v10zm4 0h-2v-4h2v4z\"/>\n",
              "    </g>\n",
              "</svg>\n",
              "  </button>\n",
              "\n",
              "<style>\n",
              "  .colab-df-quickchart {\n",
              "      --bg-color: #E8F0FE;\n",
              "      --fill-color: #1967D2;\n",
              "      --hover-bg-color: #E2EBFA;\n",
              "      --hover-fill-color: #174EA6;\n",
              "      --disabled-fill-color: #AAA;\n",
              "      --disabled-bg-color: #DDD;\n",
              "  }\n",
              "\n",
              "  [theme=dark] .colab-df-quickchart {\n",
              "      --bg-color: #3B4455;\n",
              "      --fill-color: #D2E3FC;\n",
              "      --hover-bg-color: #434B5C;\n",
              "      --hover-fill-color: #FFFFFF;\n",
              "      --disabled-bg-color: #3B4455;\n",
              "      --disabled-fill-color: #666;\n",
              "  }\n",
              "\n",
              "  .colab-df-quickchart {\n",
              "    background-color: var(--bg-color);\n",
              "    border: none;\n",
              "    border-radius: 50%;\n",
              "    cursor: pointer;\n",
              "    display: none;\n",
              "    fill: var(--fill-color);\n",
              "    height: 32px;\n",
              "    padding: 0;\n",
              "    width: 32px;\n",
              "  }\n",
              "\n",
              "  .colab-df-quickchart:hover {\n",
              "    background-color: var(--hover-bg-color);\n",
              "    box-shadow: 0 1px 2px rgba(60, 64, 67, 0.3), 0 1px 3px 1px rgba(60, 64, 67, 0.15);\n",
              "    fill: var(--button-hover-fill-color);\n",
              "  }\n",
              "\n",
              "  .colab-df-quickchart-complete:disabled,\n",
              "  .colab-df-quickchart-complete:disabled:hover {\n",
              "    background-color: var(--disabled-bg-color);\n",
              "    fill: var(--disabled-fill-color);\n",
              "    box-shadow: none;\n",
              "  }\n",
              "\n",
              "  .colab-df-spinner {\n",
              "    border: 2px solid var(--fill-color);\n",
              "    border-color: transparent;\n",
              "    border-bottom-color: var(--fill-color);\n",
              "    animation:\n",
              "      spin 1s steps(1) infinite;\n",
              "  }\n",
              "\n",
              "  @keyframes spin {\n",
              "    0% {\n",
              "      border-color: transparent;\n",
              "      border-bottom-color: var(--fill-color);\n",
              "      border-left-color: var(--fill-color);\n",
              "    }\n",
              "    20% {\n",
              "      border-color: transparent;\n",
              "      border-left-color: var(--fill-color);\n",
              "      border-top-color: var(--fill-color);\n",
              "    }\n",
              "    30% {\n",
              "      border-color: transparent;\n",
              "      border-left-color: var(--fill-color);\n",
              "      border-top-color: var(--fill-color);\n",
              "      border-right-color: var(--fill-color);\n",
              "    }\n",
              "    40% {\n",
              "      border-color: transparent;\n",
              "      border-right-color: var(--fill-color);\n",
              "      border-top-color: var(--fill-color);\n",
              "    }\n",
              "    60% {\n",
              "      border-color: transparent;\n",
              "      border-right-color: var(--fill-color);\n",
              "    }\n",
              "    80% {\n",
              "      border-color: transparent;\n",
              "      border-right-color: var(--fill-color);\n",
              "      border-bottom-color: var(--fill-color);\n",
              "    }\n",
              "    90% {\n",
              "      border-color: transparent;\n",
              "      border-bottom-color: var(--fill-color);\n",
              "    }\n",
              "  }\n",
              "</style>\n",
              "\n",
              "  <script>\n",
              "    async function quickchart(key) {\n",
              "      const quickchartButtonEl =\n",
              "        document.querySelector('#' + key + ' button');\n",
              "      quickchartButtonEl.disabled = true;  // To prevent multiple clicks.\n",
              "      quickchartButtonEl.classList.add('colab-df-spinner');\n",
              "      try {\n",
              "        const charts = await google.colab.kernel.invokeFunction(\n",
              "            'suggestCharts', [key], {});\n",
              "      } catch (error) {\n",
              "        console.error('Error during call to suggestCharts:', error);\n",
              "      }\n",
              "      quickchartButtonEl.classList.remove('colab-df-spinner');\n",
              "      quickchartButtonEl.classList.add('colab-df-quickchart-complete');\n",
              "    }\n",
              "    (() => {\n",
              "      let quickchartButtonEl =\n",
              "        document.querySelector('#df-de28c74c-8a52-4828-92be-4da652d88afd button');\n",
              "      quickchartButtonEl.style.display =\n",
              "        google.colab.kernel.accessAllowed ? 'block' : 'none';\n",
              "    })();\n",
              "  </script>\n",
              "</div>\n",
              "\n",
              "    </div>\n",
              "  </div>\n"
            ],
            "application/vnd.google.colaboratory.intrinsic+json": {
              "type": "dataframe",
              "variable_name": "data_df",
              "summary": "{\n  \"name\": \"data_df\",\n  \"rows\": 6687,\n  \"fields\": [\n    {\n      \"column\": \"FilePath\",\n      \"properties\": {\n        \"dtype\": \"string\",\n        \"num_unique_values\": 6687,\n        \"samples\": [\n          \"/content/quran-recitations-for-audio-classification/Dataset//Dataset/Mohammed_Aluhaidan/lohaidan_045.wav\",\n          \"/content/quran-recitations-for-audio-classification/Dataset//Dataset/AbdulBari_Althubaity/abdulbari_346.wav\",\n          \"/content/quran-recitations-for-audio-classification/Dataset//Dataset/Saad_Alghamdi/Saad_425.wav\"\n        ],\n        \"semantic_type\": \"\",\n        \"description\": \"\"\n      }\n    },\n    {\n      \"column\": \"Class\",\n      \"properties\": {\n        \"dtype\": \"category\",\n        \"num_unique_values\": 12,\n        \"samples\": [\n          \"Saad_Alghamdi\",\n          \"AbdulRahman_Alsudais\",\n          \"Mohammed_Aluhaidan\"\n        ],\n        \"semantic_type\": \"\",\n        \"description\": \"\"\n      }\n    }\n  ]\n}"
            }
          },
          "metadata": {},
          "execution_count": 5
        }
      ]
    },
    {
      "cell_type": "markdown",
      "source": [
        "# 4. Data investigation"
      ],
      "metadata": {
        "id": "p__ufdZzjtKB"
      }
    },
    {
      "cell_type": "code",
      "source": [
        "print(\"Data Shape is: \", data_df.shape) # Print the data shape (rows, columns)\n",
        "print() # Empty line for better viewing\n",
        "\n",
        "print() # Empty line for better viewing\n",
        "print(\"Claases Distrubution is: \")\n",
        "\n",
        "class_counts = data_df['Class'].value_counts() # Get how many data sample for each class\n",
        "plt.figure(figsize=(8, 8)) # Plot a figure of 8 by 8 pixels\n",
        "\n",
        "# we use this for plotting the how many data sample for each class\n",
        "# autopct='%1.1f%%' automatically adds a label to each slice of\n",
        "# the pie with its percentage of the whole, formatted to one decimal place.\n",
        "plt.pie(class_counts, labels=class_counts.index, autopct='%1.1f%%')\n",
        "\n",
        "\n",
        "plt.title('Class Distribution') # Add title to the whole figure\n",
        "\n",
        "plt.show() # Visualize/show the figure - Like print()"
      ],
      "metadata": {
        "colab": {
          "base_uri": "https://localhost:8080/",
          "height": 748
        },
        "id": "mTMjqZv0jpV9",
        "outputId": "d588f068-e29c-4715-d1ea-4ca163d0ae50"
      },
      "execution_count": 6,
      "outputs": [
        {
          "output_type": "stream",
          "name": "stdout",
          "text": [
            "Data Shape is:  (6687, 2)\n",
            "\n",
            "\n",
            "Claases Distrubution is: \n"
          ]
        },
        {
          "output_type": "display_data",
          "data": {
            "text/plain": [
              "<Figure size 800x800 with 1 Axes>"
            ],
            "image/png": "[encoded data removed]"
          },
          "metadata": {}
        }
      ]
    },
    {
      "cell_type": "markdown",
      "source": [
        "# 5. Data Split"
      ],
      "metadata": {
        "id": "CByxSBvBjxRB"
      }
    },
    {
      "cell_type": "code",
      "source": [
        "label_encoder = LabelEncoder() # Defining our label encoder\n",
        "data_df[\"Class\"] = label_encoder.fit_transform(data_df[\"Class\"]) # Class encoding\n",
        "\n",
        "train=data_df.sample(frac=0.7,random_state=7) # Create training of 70% of the data\n",
        "test=data_df.drop(train.index) # Create testing by removing the 70% of the train data which will result in 30%\n",
        "\n",
        "val=test.sample(frac=0.5,random_state=7) # Create validation of 50% of the testing data\n",
        "test=test.drop(val.index) # Create testing by removing the 50% of the validation data which will result in 50%\n",
        "\n",
        "\n",
        "print(\"Training Shape: \", train.shape) # Print the Trainnig shape (rows, columns)\n",
        "print(\"Validation Shape: \", val.shape) # Print the Validation shape (rows, columns)\n",
        "print(\"Testing Shape: \", test.shape) # Print the Testing shape (rows, columns)"
      ],
      "metadata": {
        "colab": {
          "base_uri": "https://localhost:8080/"
        },
        "id": "gZMTvTPvjvpc",
        "outputId": "3f8cdf16-374d-4453-e7b4-9371ad3bc7d8"
      },
      "execution_count": 7,
      "outputs": [
        {
          "output_type": "stream",
          "name": "stdout",
          "text": [
            "Training Shape:  (4681, 2)\n",
            "Validation Shape:  (1003, 2)\n",
            "Testing Shape:  (1003, 2)\n"
          ]
        }
      ]
    },
    {
      "cell_type": "markdown",
      "source": [
        "# 6. Custom Dataset Class"
      ],
      "metadata": {
        "id": "6MEdJud2j7tL"
      }
    },
    {
      "cell_type": "code",
      "source": [
        "class CustomAudioDataset(Dataset):\n",
        "  \"\"\"\n",
        "  Custom dataset class for loading audio data.\n",
        "\n",
        "  Args:\n",
        "    dataframe (pd.DataFrame): Dataframe containing file paths and labels.\n",
        "  \"\"\"\n",
        "  def __init__(self, dataframe):\n",
        "    # Store the dataframe\n",
        "    self.dataframe = dataframe\n",
        "    # Convert labels to LongTensors and move to the device\n",
        "    self.labels = torch.Tensor(list(dataframe[\"Class\"])).type(torch.LongTensor).to(device)\n",
        "    # Pre-compute spectrograms for all audio files and store them as FloatTensors\n",
        "    self.audios = [torch.Tensor(self.get_spectrogram(path)).type(torch.FloatTensor) for path in dataframe['FilePath']]\n",
        "\n",
        "  def __len__(self):\n",
        "    \"\"\"\n",
        "    Returns the total number of samples in the dataset.\n",
        "    \"\"\"\n",
        "    return self.dataframe.shape[0]\n",
        "\n",
        "  def __getitem__(self, idx):\n",
        "    \"\"\"\n",
        "    Returns the audio spectrogram and label for a given index.\n",
        "\n",
        "    Args:\n",
        "      idx (int): Index of the sample to retrieve.\n",
        "\n",
        "    Returns:\n",
        "      tuple: (audio, label) where audio is a FloatTensor\n",
        "             representing the spectrogram and label is a LongTensor.\n",
        "    \"\"\"\n",
        "    # Get the image path from the dataframe\n",
        "    img_path = self.dataframe.iloc[idx, 0]\n",
        "    # Get the label and move it to the device\n",
        "    label = torch.Tensor(self.labels[idx]).to(device)\n",
        "    # Get the audio spectrogram, add a channel dimension, and move it to the device\n",
        "    audio = (self.audios[idx]).unsqueeze(0).to(device)\n",
        "    return audio, label\n",
        "\n",
        "  def get_spectrogram(self, file_path):\n",
        "    \"\"\"\n",
        "    Computes and returns the mel spectrogram of an audio file.\n",
        "\n",
        "    Args:\n",
        "      file_path (str): Path to the audio file.\n",
        "\n",
        "    Returns:\n",
        "      np.ndarray: Mel spectrogram of the audio file.\n",
        "    \"\"\"\n",
        "    sr = 22050 # Set the sample rate of the audio file\n",
        "    duration = 5 # Set the duration of the audio files\n",
        "\n",
        "    # Set the size of the spectrogram images\n",
        "    img_height = 128\n",
        "    img_width = 256\n",
        "\n",
        "    # Load the audio file\n",
        "    signal, sr = librosa.load(file_path, sr=22050, duration=duration)\n",
        "\n",
        "    # Compute the spectrogram\n",
        "    spec = librosa.feature.melspectrogram(y=signal, sr=sr, n_fft=2048, hop_length=512, n_mels=128)\n",
        "\n",
        "    # Convert the spectrogram to dB scale\n",
        "    spec_db = librosa.power_to_db(spec, ref=np.max)\n",
        "\n",
        "    # Resize the spectrogram to the desired shape\n",
        "    spec_resized = librosa.util.fix_length(spec_db, size = duration * sr // 512 + 1)\n",
        "    spec_resized = resize(spec_resized, (img_height, img_width), anti_aliasing=True)\n",
        "    return spec_resized"
      ],
      "metadata": {
        "id": "exVCzT3Fj5Rr"
      },
      "execution_count": 8,
      "outputs": []
    },
    {
      "cell_type": "markdown",
      "source": [
        "# 7. Create Dataset Objects"
      ],
      "metadata": {
        "id": "NVG0WHGGpTp8"
      }
    },
    {
      "cell_type": "code",
      "source": [
        "train_dataset = CustomAudioDataset(dataframe=train)\n",
        "val_dataset = CustomAudioDataset(dataframe=val)\n",
        "test_dataset = CustomAudioDataset(dataframe=test)"
      ],
      "metadata": {
        "id": "DiaK_AIkpULK"
      },
      "execution_count": 9,
      "outputs": []
    },
    {
      "cell_type": "markdown",
      "source": [
        "# 8. Hyperparameters"
      ],
      "metadata": {
        "id": "vOzyqxnopccN"
      }
    },
    {
      "cell_type": "code",
      "source": [
        "LR = 1e-4\n",
        "BATCH_SIZE = 16\n",
        "EPOCHS = 25"
      ],
      "metadata": {
        "id": "2tJtjPbWpWNS"
      },
      "execution_count": 10,
      "outputs": []
    },
    {
      "cell_type": "markdown",
      "source": [
        "# 9. DataLoaders"
      ],
      "metadata": {
        "id": "LYOYrTdEpivV"
      }
    },
    {
      "cell_type": "code",
      "source": [
        "train_loader = DataLoader(train_dataset, batch_size=BATCH_SIZE, shuffle=True)\n",
        "val_loader = DataLoader(val_dataset, batch_size=BATCH_SIZE, shuffle=True)\n",
        "test_loader = DataLoader(test_dataset, batch_size=BATCH_SIZE, shuffle=True)\n",
        ""
      ],
      "metadata": {
        "id": "ga-OPVbspfEK"
      },
      "execution_count": 11,
      "outputs": []
    },
    {
      "cell_type": "markdown",
      "source": [
        "# 10. Model"
      ],
      "metadata": {
        "id": "9PLOVIgSpsQX"
      }
    },
    {
      "cell_type": "code",
      "source": [
        "class Net(nn.Module):\n",
        "  def __init__(self):\n",
        "    super().__init__()\n",
        "\n",
        "    self.conv1 = nn.Conv2d(1, 16, kernel_size = 3, padding = 1) # First Convolution layer\n",
        "    self.conv2 = nn.Conv2d(16, 32, kernel_size = 3, stride = 1, padding = 1) # Second Convolution layer\n",
        "    self.conv3 = nn.Conv2d(32, 64, kernel_size = 3, stride = 1, padding = 1) # Third Convolution layer\n",
        "    self.pooling = nn.MaxPool2d(2,2) # The pooling layer, we will be using the same layer after each conv2d.\n",
        "    self.relu = nn.ReLU() # ReLU Activation function\n",
        "\n",
        "    self.flatten = nn.Flatten() # Flatten and vectorize the output feature maps that somes from the final convolution layer.\n",
        "    self.linear1 = nn.Linear((64 * 16 * 32), 4096) # Traditional Dense (Linear)\n",
        "    self.linear2 = nn.Linear(4096, 1024) # Traditional Dense (Linear)\n",
        "    self.linear4 = nn.Linear(1024, 512) # Traditional Dense (Linear)\n",
        "    self.output = nn.Linear(512, len(data_df['Class'].unique())) # Output Linear Layer\n",
        "\n",
        "    self.dropout = nn.Dropout(0.5)\n",
        "\n",
        "  def forward(self, x):\n",
        "    x = self.conv1(x) # -> Outputs: (16, (128, 256))\n",
        "    x = self.pooling(x)# -> Outputs: (16, (64, 128))\n",
        "    x = self.relu(x)\n",
        "    x = self.dropout(x)\n",
        "    x = self.conv2(x) # -> Outputs: (32, (64, 128))\n",
        "    x = self.pooling(x) # -> Outputs: (32, (32, 64))\n",
        "    x = self.relu(x)\n",
        "    x = self.dropout(x)\n",
        "    x = self.conv3(x) # -> Outputs: (64, (32, 64))\n",
        "    x = self.pooling(x) # -> Outputs: (64, (16, 32))\n",
        "    x = self.relu(x)\n",
        "    x = self.dropout(x)\n",
        "    x = x.view(x.size(0), -1)\n",
        "\n",
        "    x = self.flatten(x)\n",
        "\n",
        "    x = self.linear1(x)\n",
        "    x = self.dropout(x)\n",
        "\n",
        "    x = self.linear2(x)\n",
        "    x = self.dropout(x)\n",
        "\n",
        "\n",
        "    x = self.linear4(x)\n",
        "    x = self.dropout(x)\n",
        "\n",
        "    x = self.output(x)\n",
        "\n",
        "    return x\n",
        "\n",
        "model = Net().to(device) # Create an instance of the model and move it to the GPU Device\n",
        "\n",
        "\n",
        "print(model)"
      ],
      "metadata": {
        "colab": {
          "base_uri": "https://localhost:8080/"
        },
        "id": "5g_K7T78ppuq",
        "outputId": "d0ab860a-3d82-43ec-d92c-559f41120937"
      },
      "execution_count": 12,
      "outputs": [
        {
          "output_type": "stream",
          "name": "stdout",
          "text": [
            "Net(\n",
            "  (conv1): Conv2d(1, 16, kernel_size=(3, 3), stride=(1, 1), padding=(1, 1))\n",
            "  (conv2): Conv2d(16, 32, kernel_size=(3, 3), stride=(1, 1), padding=(1, 1))\n",
            "  (conv3): Conv2d(32, 64, kernel_size=(3, 3), stride=(1, 1), padding=(1, 1))\n",
            "  (pooling): MaxPool2d(kernel_size=2, stride=2, padding=0, dilation=1, ceil_mode=False)\n",
            "  (relu): ReLU()\n",
            "  (flatten): Flatten(start_dim=1, end_dim=-1)\n",
            "  (linear1): Linear(in_features=32768, out_features=4096, bias=True)\n",
            "  (linear2): Linear(in_features=4096, out_features=1024, bias=True)\n",
            "  (linear4): Linear(in_features=1024, out_features=512, bias=True)\n",
            "  (output): Linear(in_features=512, out_features=12, bias=True)\n",
            "  (dropout): Dropout(p=0.5, inplace=False)\n",
            ")\n"
          ]
        }
      ]
    },
    {
      "cell_type": "markdown",
      "source": [
        "# 11. Model Summary"
      ],
      "metadata": {
        "id": "VslM2MH8qYAW"
      }
    },
    {
      "cell_type": "code",
      "source": [
        "from torchsummary import summary # Visualize the model layers and number of parameters\n",
        "summary(model, (1, 128, 256)) # Visualize the model layers by taking the input size expected (-1 in the output will be replaced by the batch size in training)\n",
        ""
      ],
      "metadata": {
        "colab": {
          "base_uri": "https://localhost:8080/"
        },
        "id": "3z8Opt21qYfl",
        "outputId": "75ac36a1-5fd3-4924-a8f8-68a515c89da4"
      },
      "execution_count": 13,
      "outputs": [
        {
          "output_type": "stream",
          "name": "stdout",
          "text": [
            "----------------------------------------------------------------\n",
            "        Layer (type)               Output Shape         Param #\n",
            "================================================================\n",
            "            Conv2d-1         [-1, 16, 128, 256]             160\n",
            "         MaxPool2d-2          [-1, 16, 64, 128]               0\n",
            "              ReLU-3          [-1, 16, 64, 128]               0\n",
            "           Dropout-4          [-1, 16, 64, 128]               0\n",
            "            Conv2d-5          [-1, 32, 64, 128]           4,640\n",
            "         MaxPool2d-6           [-1, 32, 32, 64]               0\n",
            "              ReLU-7           [-1, 32, 32, 64]               0\n",
            "           Dropout-8           [-1, 32, 32, 64]               0\n",
            "            Conv2d-9           [-1, 64, 32, 64]          18,496\n",
            "        MaxPool2d-10           [-1, 64, 16, 32]               0\n",
            "             ReLU-11           [-1, 64, 16, 32]               0\n",
            "          Dropout-12           [-1, 64, 16, 32]               0\n",
            "          Flatten-13                [-1, 32768]               0\n",
            "           Linear-14                 [-1, 4096]     134,221,824\n",
            "          Dropout-15                 [-1, 4096]               0\n",
            "           Linear-16                 [-1, 1024]       4,195,328\n",
            "          Dropout-17                 [-1, 1024]               0\n",
            "           Linear-18                  [-1, 512]         524,800\n",
            "          Dropout-19                  [-1, 512]               0\n",
            "           Linear-20                   [-1, 12]           6,156\n",
            "================================================================\n",
            "Total params: 138,971,404\n",
            "Trainable params: 138,971,404\n",
            "Non-trainable params: 0\n",
            "----------------------------------------------------------------\n",
            "Input size (MB): 0.12\n",
            "Forward/backward pass size (MB): 12.59\n",
            "Params size (MB): 530.13\n",
            "Estimated Total Size (MB): 542.84\n",
            "----------------------------------------------------------------\n"
          ]
        }
      ]
    },
    {
      "cell_type": "markdown",
      "source": [
        "# 12. Loss and Optimizer"
      ],
      "metadata": {
        "id": "r92pK3vrqd0u"
      }
    },
    {
      "cell_type": "code",
      "source": [
        "# Define loss function and optimizer\n",
        "criterion = nn.CrossEntropyLoss() # Cross Entropy Loss\n",
        "optimizer = Adam(model.parameters(), lr=LR) # Adam optimizer"
      ],
      "metadata": {
        "id": "Zzr9xZhkqalZ"
      },
      "execution_count": 14,
      "outputs": []
    },
    {
      "cell_type": "markdown",
      "source": [
        "# 13. Training"
      ],
      "metadata": {
        "id": "DUVwt1PzqlLN"
      }
    },
    {
      "cell_type": "code",
      "source": [
        "total_loss_train_plot = [] # Empty list to be filled with train loss after each epoch\n",
        "total_loss_validation_plot = [] # Empty list to be filled with validation loss after each epoch\n",
        "total_acc_train_plot = [] # Empty list to be filled with train accuracy after each epoch\n",
        "total_acc_validation_plot = [] # Empty list to be filled with validation accuracy after each epoch\n",
        "\n",
        "\n",
        "for epoch in range(EPOCHS):\n",
        "  start_time = time.time() # We use this to calculate the time of each epoch, it starts a counter once called\n",
        "  total_acc_train = 0\n",
        "  total_loss_train = 0\n",
        "  total_loss_val = 0\n",
        "  total_acc_val = 0\n",
        "\n",
        "  for inputs, labels in train_loader:\n",
        "    outputs = model(inputs)\n",
        "    train_loss = criterion(outputs, labels)\n",
        "    total_loss_train += train_loss.item()\n",
        "    train_loss.backward()\n",
        "\n",
        "    train_acc = (torch.argmax(outputs, axis = 1) == labels).sum().item()\n",
        "    total_acc_train += train_acc\n",
        "    optimizer.step()\n",
        "    optimizer.zero_grad()\n",
        "\n",
        "  with torch.no_grad():\n",
        "    for inputs, labels in val_loader:\n",
        "      outputs = model(inputs)\n",
        "      val_loss = criterion(outputs, labels)\n",
        "      total_loss_val += val_loss.item()\n",
        "\n",
        "      val_acc = (torch.argmax(outputs, axis = 1) == labels).sum().item()\n",
        "      total_acc_val += val_acc\n",
        "\n",
        "  total_loss_train_plot.append(round(total_loss_train/1000, 4))\n",
        "  total_loss_validation_plot.append(round(total_loss_val/1000, 4))\n",
        "  total_acc_train_plot.append(round(total_acc_train/(train_dataset.__len__())*100, 4))\n",
        "  total_acc_validation_plot.append(round(total_acc_val/(val_dataset.__len__())*100, 4))\n",
        "  epoch_string = f\"\"\"\n",
        "                  Epoch: {epoch+1}/{EPOCHS},\n",
        "                  Train Loss: {round(total_loss_train/100, 4)},\n",
        "                  Train Accuracy: {round((total_acc_train/train_dataset.__len__() * 100), 4)},\n",
        "                  Validation Loss: {round(total_loss_val/100, 4)},\n",
        "                  Validation Accuracy: {round((total_acc_val/val_dataset.__len__() * 100), 4)}\n",
        "                  \"\"\"\n",
        "  print(epoch_string)\n",
        "  print(\"=\"*30)"
      ],
      "metadata": {
        "colab": {
          "base_uri": "https://localhost:8080/"
        },
        "id": "JvBUwifLqgsq",
        "outputId": "daa11f4e-9aba-4474-94d5-fce63af6d1a4"
      },
      "execution_count": 15,
      "outputs": [
        {
          "output_type": "stream",
          "name": "stdout",
          "text": [
            "\n",
            "                  Epoch: 1/25, \n",
            "                  Train Loss: 21.0667, \n",
            "                  Train Accuracy: 10.4465, \n",
            "                  Validation Loss: 1.5417, \n",
            "                  Validation Accuracy: 11.9641\n",
            "                  \n",
            "==============================\n",
            "\n",
            "                  Epoch: 2/25, \n",
            "                  Train Loss: 7.1238, \n",
            "                  Train Accuracy: 11.8778, \n",
            "                  Validation Loss: 1.517, \n",
            "                  Validation Accuracy: 13.3599\n",
            "                  \n",
            "==============================\n",
            "\n",
            "                  Epoch: 3/25, \n",
            "                  Train Loss: 6.9669, \n",
            "                  Train Accuracy: 14.7832, \n",
            "                  Validation Loss: 1.4505, \n",
            "                  Validation Accuracy: 18.5444\n",
            "                  \n",
            "==============================\n",
            "\n",
            "                  Epoch: 4/25, \n",
            "                  Train Loss: 6.4995, \n",
            "                  Train Accuracy: 22.7302, \n",
            "                  Validation Loss: 1.31, \n",
            "                  Validation Accuracy: 27.318\n",
            "                  \n",
            "==============================\n",
            "\n",
            "                  Epoch: 5/25, \n",
            "                  Train Loss: 5.5094, \n",
            "                  Train Accuracy: 36.4879, \n",
            "                  Validation Loss: 1.0193, \n",
            "                  Validation Accuracy: 46.8594\n",
            "                  \n",
            "==============================\n",
            "\n",
            "                  Epoch: 6/25, \n",
            "                  Train Loss: 4.3262, \n",
            "                  Train Accuracy: 49.9252, \n",
            "                  Validation Loss: 0.8676, \n",
            "                  Validation Accuracy: 53.9382\n",
            "                  \n",
            "==============================\n",
            "\n",
            "                  Epoch: 7/25, \n",
            "                  Train Loss: 3.4538, \n",
            "                  Train Accuracy: 59.6881, \n",
            "                  Validation Loss: 0.7136, \n",
            "                  Validation Accuracy: 62.2134\n",
            "                  \n",
            "==============================\n",
            "\n",
            "                  Epoch: 8/25, \n",
            "                  Train Loss: 2.8979, \n",
            "                  Train Accuracy: 67.4429, \n",
            "                  Validation Loss: 0.6048, \n",
            "                  Validation Accuracy: 69.6909\n",
            "                  \n",
            "==============================\n",
            "\n",
            "                  Epoch: 9/25, \n",
            "                  Train Loss: 2.348, \n",
            "                  Train Accuracy: 73.0399, \n",
            "                  Validation Loss: 0.5017, \n",
            "                  Validation Accuracy: 74.676\n",
            "                  \n",
            "==============================\n",
            "\n",
            "                  Epoch: 10/25, \n",
            "                  Train Loss: 1.9961, \n",
            "                  Train Accuracy: 77.6116, \n",
            "                  Validation Loss: 0.4265, \n",
            "                  Validation Accuracy: 76.67\n",
            "                  \n",
            "==============================\n",
            "\n",
            "                  Epoch: 11/25, \n",
            "                  Train Loss: 1.6477, \n",
            "                  Train Accuracy: 81.7133, \n",
            "                  Validation Loss: 0.3952, \n",
            "                  Validation Accuracy: 79.0628\n",
            "                  \n",
            "==============================\n",
            "\n",
            "                  Epoch: 12/25, \n",
            "                  Train Loss: 1.4331, \n",
            "                  Train Accuracy: 83.5505, \n",
            "                  Validation Loss: 0.3021, \n",
            "                  Validation Accuracy: 84.9452\n",
            "                  \n",
            "==============================\n",
            "\n",
            "                  Epoch: 13/25, \n",
            "                  Train Loss: 1.2118, \n",
            "                  Train Accuracy: 86.4986, \n",
            "                  Validation Loss: 0.2502, \n",
            "                  Validation Accuracy: 87.1386\n",
            "                  \n",
            "==============================\n",
            "\n",
            "                  Epoch: 14/25, \n",
            "                  Train Loss: 1.0449, \n",
            "                  Train Accuracy: 88.5067, \n",
            "                  Validation Loss: 0.2422, \n",
            "                  Validation Accuracy: 87.1386\n",
            "                  \n",
            "==============================\n",
            "\n",
            "                  Epoch: 15/25, \n",
            "                  Train Loss: 1.0041, \n",
            "                  Train Accuracy: 89.5322, \n",
            "                  Validation Loss: 0.2264, \n",
            "                  Validation Accuracy: 87.9362\n",
            "                  \n",
            "==============================\n",
            "\n",
            "                  Epoch: 16/25, \n",
            "                  Train Loss: 0.8937, \n",
            "                  Train Accuracy: 90.4508, \n",
            "                  Validation Loss: 0.2155, \n",
            "                  Validation Accuracy: 89.6311\n",
            "                  \n",
            "==============================\n",
            "\n",
            "                  Epoch: 17/25, \n",
            "                  Train Loss: 0.8253, \n",
            "                  Train Accuracy: 91.2839, \n",
            "                  Validation Loss: 0.2424, \n",
            "                  Validation Accuracy: 88.5344\n",
            "                  \n",
            "==============================\n",
            "\n",
            "                  Epoch: 18/25, \n",
            "                  Train Loss: 0.7816, \n",
            "                  Train Accuracy: 92.2239, \n",
            "                  Validation Loss: 0.2063, \n",
            "                  Validation Accuracy: 90.4287\n",
            "                  \n",
            "==============================\n",
            "\n",
            "                  Epoch: 19/25, \n",
            "                  Train Loss: 0.7781, \n",
            "                  Train Accuracy: 91.7753, \n",
            "                  Validation Loss: 0.1763, \n",
            "                  Validation Accuracy: 92.0239\n",
            "                  \n",
            "==============================\n",
            "\n",
            "                  Epoch: 20/25, \n",
            "                  Train Loss: 0.6608, \n",
            "                  Train Accuracy: 92.6084, \n",
            "                  Validation Loss: 0.2228, \n",
            "                  Validation Accuracy: 90.1296\n",
            "                  \n",
            "==============================\n",
            "\n",
            "                  Epoch: 21/25, \n",
            "                  Train Loss: 0.5931, \n",
            "                  Train Accuracy: 93.5911, \n",
            "                  Validation Loss: 0.2277, \n",
            "                  Validation Accuracy: 90.5284\n",
            "                  \n",
            "==============================\n",
            "\n",
            "                  Epoch: 22/25, \n",
            "                  Train Loss: 0.7095, \n",
            "                  Train Accuracy: 92.758, \n",
            "                  Validation Loss: 0.1858, \n",
            "                  Validation Accuracy: 89.4317\n",
            "                  \n",
            "==============================\n",
            "\n",
            "                  Epoch: 23/25, \n",
            "                  Train Loss: 0.5755, \n",
            "                  Train Accuracy: 93.8047, \n",
            "                  Validation Loss: 0.1583, \n",
            "                  Validation Accuracy: 91.9242\n",
            "                  \n",
            "==============================\n",
            "\n",
            "                  Epoch: 24/25, \n",
            "                  Train Loss: 0.5728, \n",
            "                  Train Accuracy: 93.997, \n",
            "                  Validation Loss: 0.1444, \n",
            "                  Validation Accuracy: 93.5194\n",
            "                  \n",
            "==============================\n",
            "\n",
            "                  Epoch: 25/25, \n",
            "                  Train Loss: 0.571, \n",
            "                  Train Accuracy: 94.4243, \n",
            "                  Validation Loss: 0.2217, \n",
            "                  Validation Accuracy: 91.326\n",
            "                  \n",
            "==============================\n"
          ]
        }
      ]
    },
    {
      "cell_type": "markdown",
      "source": [
        "# 14. Testing"
      ],
      "metadata": {
        "id": "4SqUnF9hqvro"
      }
    },
    {
      "cell_type": "code",
      "source": [
        "with torch.no_grad():\n",
        "  total_loss_test = 0\n",
        "  total_acc_test = 0\n",
        "  for indx, (input, labels) in enumerate(test_loader):\n",
        "\n",
        "    prediction = model(input)\n",
        "\n",
        "    acc = (torch.argmax(prediction, axis = 1) == labels).sum().item()\n",
        "    total_acc_test += acc\n",
        "\n",
        "print(f\"Accuracy Score is: {round((total_acc_test/test_dataset.__len__())*100, 2)}%\")"
      ],
      "metadata": {
        "colab": {
          "base_uri": "https://localhost:8080/"
        },
        "id": "ZBy4RZe7qrsR",
        "outputId": "79103c07-2e7d-48b8-9934-9c476e369950"
      },
      "execution_count": 16,
      "outputs": [
        {
          "output_type": "stream",
          "name": "stdout",
          "text": [
            "Accuracy Score is: 92.02%\n"
          ]
        }
      ]
    },
    {
      "cell_type": "markdown",
      "source": [
        "# 15. Plotting Training Progress"
      ],
      "metadata": {
        "id": "JgeikHwEq1jt"
      }
    },
    {
      "cell_type": "code",
      "source": [
        "fig, axs = plt.subplots(nrows=1, ncols=2, figsize=(15, 5))\n",
        "\n",
        "axs[0].plot(total_loss_train_plot, label='Training Loss')\n",
        "axs[0].plot(total_loss_validation_plot, label='Validation Loss')\n",
        "axs[0].set_title('Training and Validation Loss over Epochs')\n",
        "axs[0].set_xlabel('Epochs')\n",
        "axs[0].set_ylabel('Loss')\n",
        "axs[1].set_ylim([0, 2])\n",
        "axs[0].legend()\n",
        "\n",
        "axs[1].plot(total_acc_train_plot, label='Training Accuracy')\n",
        "axs[1].plot(total_acc_validation_plot, label='Validation Accuracy')\n",
        "axs[1].set_title('Training and Validation Accuracy over Epochs')\n",
        "axs[1].set_xlabel('Epochs')\n",
        "axs[1].set_ylabel('Accuracy')\n",
        "axs[1].set_ylim([0, 100])\n",
        "axs[1].legend()\n",
        "\n",
        "plt.tight_layout()\n",
        "\n",
        "plt.show()"
      ],
      "metadata": {
        "colab": {
          "base_uri": "https://localhost:8080/",
          "height": 331
        },
        "id": "_MOpxWdcqzCK",
        "outputId": "4b3d836f-d808-4b51-ca3b-831af0330ac2"
      },
      "execution_count": 17,
      "outputs": [
        {
          "output_type": "display_data",
          "data": {
            "text/plain": [
              "<Figure size 1500x500 with 2 Axes>"
            ],
            "image/png": "[encoded data removed]"
          },
          "metadata": {}
        }
      ]
    },
    {
      "cell_type": "code",
      "source": [],
      "metadata": {
        "id": "LtCB5dyWq4IE"
      },
      "execution_count": null,
      "outputs": []
    }
  ]
}