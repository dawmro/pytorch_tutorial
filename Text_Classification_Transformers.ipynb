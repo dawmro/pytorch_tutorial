{
  "nbformat": 4,
  "nbformat_minor": 0,
  "metadata": {
    "colab": {
      "provenance": [],
      "gpuType": "T4",
      "authorship_tag": "ABX9TyOiMw1j8QB2W65G5oJ0fkgP",
      "include_colab_link": true
    },
    "kernelspec": {
      "name": "python3",
      "display_name": "Python 3"
    },
    "language_info": {
      "name": "python"
    },
    "accelerator": "GPU"
  },
  "cells": [
    {
      "cell_type": "markdown",
      "metadata": {
        "id": "view-in-github",
        "colab_type": "text"
      },
      "source": [
        "<a href=\"https://colab.research.google.com/github/dawmro/pytorch_tutorial/blob/main/Text_Classification_Transformers.ipynb\" target=\"_parent\"><img src=\"https://colab.research.google.com/assets/colab-badge.svg\" alt=\"Open In Colab\"/></a>"
      ]
    },
    {
      "cell_type": "markdown",
      "source": [
        "# 1. Imports"
      ],
      "metadata": {
        "id": "vyQcJF4o9n7f"
      }
    },
    {
      "cell_type": "code",
      "execution_count": 1,
      "metadata": {
        "colab": {
          "base_uri": "https://localhost:8080/"
        },
        "id": "ocojxsp-9ihs",
        "outputId": "540752eb-d33e-4eac-e153-b3e4bb3f2232"
      },
      "outputs": [
        {
          "output_type": "stream",
          "name": "stdout",
          "text": [
            "cuda\n"
          ]
        }
      ],
      "source": [
        "import torch\n",
        "import torch.nn as nn\n",
        "from torch.optim import Adam\n",
        "from transformers import AutoTokenizer, AutoModel\n",
        "from torch.utils.data import Dataset, DataLoader\n",
        "from sklearn.model_selection import train_test_split\n",
        "from sklearn.metrics import accuracy_score\n",
        "import matplotlib.pyplot as plt\n",
        "import pandas as pd\n",
        "import numpy as np\n",
        "\n",
        "\n",
        "device = 'cuda' if torch.cuda.is_available() else 'cpu'\n",
        "\n",
        "print(device)"
      ]
    },
    {
      "cell_type": "markdown",
      "source": [
        "# 2. Initializations and Dataset Download"
      ],
      "metadata": {
        "id": "7Z4RGx1w927F"
      }
    },
    {
      "cell_type": "code",
      "source": [
        "!pip install transformers\n",
        "!pip install opendatasets"
      ],
      "metadata": {
        "colab": {
          "base_uri": "https://localhost:8080/"
        },
        "id": "N0O58HHL9sy-",
        "outputId": "e5edda66-2d3a-42e1-dacf-7415a5bcca86"
      },
      "execution_count": 2,
      "outputs": [
        {
          "output_type": "stream",
          "name": "stdout",
          "text": [
            "Requirement already satisfied: transformers in /usr/local/lib/python3.11/dist-packages (4.50.3)\n",
            "Requirement already satisfied: filelock in /usr/local/lib/python3.11/dist-packages (from transformers) (3.18.0)\n",
            "Requirement already satisfied: huggingface-hub<1.0,>=0.26.0 in /usr/local/lib/python3.11/dist-packages (from transformers) (0.30.1)\n",
            "Requirement already satisfied: numpy>=1.17 in /usr/local/lib/python3.11/dist-packages (from transformers) (2.0.2)\n",
            "Requirement already satisfied: packaging>=20.0 in /usr/local/lib/python3.11/dist-packages (from transformers) (24.2)\n",
            "Requirement already satisfied: pyyaml>=5.1 in /usr/local/lib/python3.11/dist-packages (from transformers) (6.0.2)\n",
            "Requirement already satisfied: regex!=2019.12.17 in /usr/local/lib/python3.11/dist-packages (from transformers) (2024.11.6)\n",
            "Requirement already satisfied: requests in /usr/local/lib/python3.11/dist-packages (from transformers) (2.32.3)\n",
            "Requirement already satisfied: tokenizers<0.22,>=0.21 in /usr/local/lib/python3.11/dist-packages (from transformers) (0.21.1)\n",
            "Requirement already satisfied: safetensors>=0.4.3 in /usr/local/lib/python3.11/dist-packages (from transformers) (0.5.3)\n",
            "Requirement already satisfied: tqdm>=4.27 in /usr/local/lib/python3.11/dist-packages (from transformers) (4.67.1)\n",
            "Requirement already satisfied: fsspec>=2023.5.0 in /usr/local/lib/python3.11/dist-packages (from huggingface-hub<1.0,>=0.26.0->transformers) (2025.3.2)\n",
            "Requirement already satisfied: typing-extensions>=3.7.4.3 in /usr/local/lib/python3.11/dist-packages (from huggingface-hub<1.0,>=0.26.0->transformers) (4.13.0)\n",
            "Requirement already satisfied: charset-normalizer<4,>=2 in /usr/local/lib/python3.11/dist-packages (from requests->transformers) (3.4.1)\n",
            "Requirement already satisfied: idna<4,>=2.5 in /usr/local/lib/python3.11/dist-packages (from requests->transformers) (3.10)\n",
            "Requirement already satisfied: urllib3<3,>=1.21.1 in /usr/local/lib/python3.11/dist-packages (from requests->transformers) (2.3.0)\n",
            "Requirement already satisfied: certifi>=2017.4.17 in /usr/local/lib/python3.11/dist-packages (from requests->transformers) (2025.1.31)\n",
            "Collecting opendatasets\n",
            "  Downloading opendatasets-0.1.22-py3-none-any.whl.metadata (9.2 kB)\n",
            "Requirement already satisfied: tqdm in /usr/local/lib/python3.11/dist-packages (from opendatasets) (4.67.1)\n",
            "Requirement already satisfied: kaggle in /usr/local/lib/python3.11/dist-packages (from opendatasets) (1.7.4.2)\n",
            "Requirement already satisfied: click in /usr/local/lib/python3.11/dist-packages (from opendatasets) (8.1.8)\n",
            "Requirement already satisfied: bleach in /usr/local/lib/python3.11/dist-packages (from kaggle->opendatasets) (6.2.0)\n",
            "Requirement already satisfied: certifi>=14.05.14 in /usr/local/lib/python3.11/dist-packages (from kaggle->opendatasets) (2025.1.31)\n",
            "Requirement already satisfied: charset-normalizer in /usr/local/lib/python3.11/dist-packages (from kaggle->opendatasets) (3.4.1)\n",
            "Requirement already satisfied: idna in /usr/local/lib/python3.11/dist-packages (from kaggle->opendatasets) (3.10)\n",
            "Requirement already satisfied: protobuf in /usr/local/lib/python3.11/dist-packages (from kaggle->opendatasets) (5.29.4)\n",
            "Requirement already satisfied: python-dateutil>=2.5.3 in /usr/local/lib/python3.11/dist-packages (from kaggle->opendatasets) (2.8.2)\n",
            "Requirement already satisfied: python-slugify in /usr/local/lib/python3.11/dist-packages (from kaggle->opendatasets) (8.0.4)\n",
            "Requirement already satisfied: requests in /usr/local/lib/python3.11/dist-packages (from kaggle->opendatasets) (2.32.3)\n",
            "Requirement already satisfied: setuptools>=21.0.0 in /usr/local/lib/python3.11/dist-packages (from kaggle->opendatasets) (75.2.0)\n",
            "Requirement already satisfied: six>=1.10 in /usr/local/lib/python3.11/dist-packages (from kaggle->opendatasets) (1.17.0)\n",
            "Requirement already satisfied: text-unidecode in /usr/local/lib/python3.11/dist-packages (from kaggle->opendatasets) (1.3)\n",
            "Requirement already satisfied: urllib3>=1.15.1 in /usr/local/lib/python3.11/dist-packages (from kaggle->opendatasets) (2.3.0)\n",
            "Requirement already satisfied: webencodings in /usr/local/lib/python3.11/dist-packages (from kaggle->opendatasets) (0.5.1)\n",
            "Downloading opendatasets-0.1.22-py3-none-any.whl (15 kB)\n",
            "Installing collected packages: opendatasets\n",
            "Successfully installed opendatasets-0.1.22\n"
          ]
        }
      ]
    },
    {
      "cell_type": "code",
      "source": [
        "import opendatasets as od\n",
        "od.download(\"https://www.kaggle.com/datasets/rmisra/news-headlines-dataset-for-sarcasm-detection\")"
      ],
      "metadata": {
        "colab": {
          "base_uri": "https://localhost:8080/"
        },
        "id": "GX8JZM4U-Dxm",
        "outputId": "a6768e0d-ee5d-4a8c-8619-12d32385f55b"
      },
      "execution_count": 3,
      "outputs": [
        {
          "output_type": "stream",
          "name": "stdout",
          "text": [
            "Please provide your Kaggle credentials to download this dataset. Learn more: http://bit.ly/kaggle-creds\n",
            "Your Kaggle username: dmrotek111@gmail.com\n",
            "Your Kaggle Key: ··········\n",
            "Dataset URL: https://www.kaggle.com/datasets/rmisra/news-headlines-dataset-for-sarcasm-detection\n"
          ]
        }
      ]
    },
    {
      "cell_type": "markdown",
      "source": [
        "# 3. Dataset"
      ],
      "metadata": {
        "id": "t0IRIjyz-5mG"
      }
    },
    {
      "cell_type": "code",
      "source": [
        "data_df = pd.read_json(\"/content/news-headlines-dataset-for-sarcasm-detection/Sarcasm_Headlines_Dataset.json\", lines=True)\n",
        "data_df.dropna(inplace=True)\n",
        "print(data_df.shape)\n",
        "data_df.head()"
      ],
      "metadata": {
        "colab": {
          "base_uri": "https://localhost:8080/",
          "height": 224
        },
        "id": "4E67o5wW-7JF",
        "outputId": "efdcb1a6-ce96-4e83-80f3-e077900ef84a"
      },
      "execution_count": 4,
      "outputs": [
        {
          "output_type": "stream",
          "name": "stdout",
          "text": [
            "(26709, 3)\n"
          ]
        },
        {
          "output_type": "execute_result",
          "data": {
            "text/plain": [
              "                                        article_link  \\\n",
              "0  https://www.huffingtonpost.com/entry/versace-b...   \n",
              "1  https://www.huffingtonpost.com/entry/roseanne-...   \n",
              "2  https://local.theonion.com/mom-starting-to-fea...   \n",
              "3  https://politics.theonion.com/boehner-just-wan...   \n",
              "4  https://www.huffingtonpost.com/entry/jk-rowlin...   \n",
              "\n",
              "                                            headline  is_sarcastic  \n",
              "0  former versace store clerk sues over secret 'b...             0  \n",
              "1  the 'roseanne' revival catches up to our thorn...             0  \n",
              "2  mom starting to fear son's web series closest ...             1  \n",
              "3  boehner just wants wife to listen, not come up...             1  \n",
              "4  j.k. rowling wishes snape happy birthday in th...             0  "
            ],
            "text/html": [
              "\n",
              "  <div id=\"df-f43a05c6-e88d-4969-af11-69cfae8e8282\" class=\"colab-df-container\">\n",
              "    <div>\n",
              "<style scoped>\n",
              "    .dataframe tbody tr th:only-of-type {\n",
              "        vertical-align: middle;\n",
              "    }\n",
              "\n",
              "    .dataframe tbody tr th {\n",
              "        vertical-align: top;\n",
              "    }\n",
              "\n",
              "    .dataframe thead th {\n",
              "        text-align: right;\n",
              "    }\n",
              "</style>\n",
              "<table border=\"1\" class=\"dataframe\">\n",
              "  <thead>\n",
              "    <tr style=\"text-align: right;\">\n",
              "      <th></th>\n",
              "      <th>article_link</th>\n",
              "      <th>headline</th>\n",
              "      <th>is_sarcastic</th>\n",
              "    </tr>\n",
              "  </thead>\n",
              "  <tbody>\n",
              "    <tr>\n",
              "      <th>0</th>\n",
              "      <td>https://www.huffingtonpost.com/entry/versace-b...</td>\n",
              "      <td>former versace store clerk sues over secret 'b...</td>\n",
              "      <td>0</td>\n",
              "    </tr>\n",
              "    <tr>\n",
              "      <th>1</th>\n",
              "      <td>https://www.huffingtonpost.com/entry/roseanne-...</td>\n",
              "      <td>the 'roseanne' revival catches up to our thorn...</td>\n",
              "      <td>0</td>\n",
              "    </tr>\n",
              "    <tr>\n",
              "      <th>2</th>\n",
              "      <td>https://local.theonion.com/mom-starting-to-fea...</td>\n",
              "      <td>mom starting to fear son's web series closest ...</td>\n",
              "      <td>1</td>\n",
              "    </tr>\n",
              "    <tr>\n",
              "      <th>3</th>\n",
              "      <td>https://politics.theonion.com/boehner-just-wan...</td>\n",
              "      <td>boehner just wants wife to listen, not come up...</td>\n",
              "      <td>1</td>\n",
              "    </tr>\n",
              "    <tr>\n",
              "      <th>4</th>\n",
              "      <td>https://www.huffingtonpost.com/entry/jk-rowlin...</td>\n",
              "      <td>j.k. rowling wishes snape happy birthday in th...</td>\n",
              "      <td>0</td>\n",
              "    </tr>\n",
              "  </tbody>\n",
              "</table>\n",
              "</div>\n",
              "    <div class=\"colab-df-buttons\">\n",
              "\n",
              "  <div class=\"colab-df-container\">\n",
              "    <button class=\"colab-df-convert\" onclick=\"convertToInteractive('df-f43a05c6-e88d-4969-af11-69cfae8e8282')\"\n",
              "            title=\"Convert this dataframe to an interactive table.\"\n",
              "            style=\"display:none;\">\n",
              "\n",
              "  <svg xmlns=\"http://www.w3.org/2000/svg\" height=\"24px\" viewBox=\"0 -960 960 960\">\n",
              "    <path d=\"M120-120v-720h720v720H120Zm60-500h600v-160H180v160Zm220 220h160v-160H400v160Zm0 220h160v-160H400v160ZM180-400h160v-160H180v160Zm440 0h160v-160H620v160ZM180-180h160v-160H180v160Zm440 0h160v-160H620v160Z\"/>\n",
              "  </svg>\n",
              "    </button>\n",
              "\n",
              "  <style>\n",
              "    .colab-df-container {\n",
              "      display:flex;\n",
              "      gap: 12px;\n",
              "    }\n",
              "\n",
              "    .colab-df-convert {\n",
              "      background-color: #E8F0FE;\n",
              "      border: none;\n",
              "      border-radius: 50%;\n",
              "      cursor: pointer;\n",
              "      display: none;\n",
              "      fill: #1967D2;\n",
              "      height: 32px;\n",
              "      padding: 0 0 0 0;\n",
              "      width: 32px;\n",
              "    }\n",
              "\n",
              "    .colab-df-convert:hover {\n",
              "      background-color: #E2EBFA;\n",
              "      box-shadow: 0px 1px 2px rgba(60, 64, 67, 0.3), 0px 1px 3px 1px rgba(60, 64, 67, 0.15);\n",
              "      fill: #174EA6;\n",
              "    }\n",
              "\n",
              "    .colab-df-buttons div {\n",
              "      margin-bottom: 4px;\n",
              "    }\n",
              "\n",
              "    [theme=dark] .colab-df-convert {\n",
              "      background-color: #3B4455;\n",
              "      fill: #D2E3FC;\n",
              "    }\n",
              "\n",
              "    [theme=dark] .colab-df-convert:hover {\n",
              "      background-color: #434B5C;\n",
              "      box-shadow: 0px 1px 3px 1px rgba(0, 0, 0, 0.15);\n",
              "      filter: drop-shadow(0px 1px 2px rgba(0, 0, 0, 0.3));\n",
              "      fill: #FFFFFF;\n",
              "    }\n",
              "  </style>\n",
              "\n",
              "    <script>\n",
              "      const buttonEl =\n",
              "        document.querySelector('#df-f43a05c6-e88d-4969-af11-69cfae8e8282 button.colab-df-convert');\n",
              "      buttonEl.style.display =\n",
              "        google.colab.kernel.accessAllowed ? 'block' : 'none';\n",
              "\n",
              "      async function convertToInteractive(key) {\n",
              "        const element = document.querySelector('#df-f43a05c6-e88d-4969-af11-69cfae8e8282');\n",
              "        const dataTable =\n",
              "          await google.colab.kernel.invokeFunction('convertToInteractive',\n",
              "                                                    [key], {});\n",
              "        if (!dataTable) return;\n",
              "\n",
              "        const docLinkHtml = 'Like what you see? Visit the ' +\n",
              "          '<a target=\"_blank\" href=https://colab.research.google.com/notebooks/data_table.ipynb>data table notebook</a>'\n",
              "          + ' to learn more about interactive tables.';\n",
              "        element.innerHTML = '';\n",
              "        dataTable['output_type'] = 'display_data';\n",
              "        await google.colab.output.renderOutput(dataTable, element);\n",
              "        const docLink = document.createElement('div');\n",
              "        docLink.innerHTML = docLinkHtml;\n",
              "        element.appendChild(docLink);\n",
              "      }\n",
              "    </script>\n",
              "  </div>\n",
              "\n",
              "\n",
              "<div id=\"df-e1494dd3-a54d-4dd4-886a-a147c3b57f03\">\n",
              "  <button class=\"colab-df-quickchart\" onclick=\"quickchart('df-e1494dd3-a54d-4dd4-886a-a147c3b57f03')\"\n",
              "            title=\"Suggest charts\"\n",
              "            style=\"display:none;\">\n",
              "\n",
              "<svg xmlns=\"http://www.w3.org/2000/svg\" height=\"24px\"viewBox=\"0 0 24 24\"\n",
              "     width=\"24px\">\n",
              "    <g>\n",
              "        <path d=\"M19 3H5c-1.1 0-2 .9-2 2v14c0 1.1.9 2 2 2h14c1.1 0 2-.9 2-2V5c0-1.1-.9-2-2-2zM9 17H7v-7h2v7zm4 0h-2V7h2v10zm4 0h-2v-4h2v4z\"/>\n",
              "    </g>\n",
              "</svg>\n",
              "  </button>\n",
              "\n",
              "<style>\n",
              "  .colab-df-quickchart {\n",
              "      --bg-color: #E8F0FE;\n",
              "      --fill-color: #1967D2;\n",
              "      --hover-bg-color: #E2EBFA;\n",
              "      --hover-fill-color: #174EA6;\n",
              "      --disabled-fill-color: #AAA;\n",
              "      --disabled-bg-color: #DDD;\n",
              "  }\n",
              "\n",
              "  [theme=dark] .colab-df-quickchart {\n",
              "      --bg-color: #3B4455;\n",
              "      --fill-color: #D2E3FC;\n",
              "      --hover-bg-color: #434B5C;\n",
              "      --hover-fill-color: #FFFFFF;\n",
              "      --disabled-bg-color: #3B4455;\n",
              "      --disabled-fill-color: #666;\n",
              "  }\n",
              "\n",
              "  .colab-df-quickchart {\n",
              "    background-color: var(--bg-color);\n",
              "    border: none;\n",
              "    border-radius: 50%;\n",
              "    cursor: pointer;\n",
              "    display: none;\n",
              "    fill: var(--fill-color);\n",
              "    height: 32px;\n",
              "    padding: 0;\n",
              "    width: 32px;\n",
              "  }\n",
              "\n",
              "  .colab-df-quickchart:hover {\n",
              "    background-color: var(--hover-bg-color);\n",
              "    box-shadow: 0 1px 2px rgba(60, 64, 67, 0.3), 0 1px 3px 1px rgba(60, 64, 67, 0.15);\n",
              "    fill: var(--button-hover-fill-color);\n",
              "  }\n",
              "\n",
              "  .colab-df-quickchart-complete:disabled,\n",
              "  .colab-df-quickchart-complete:disabled:hover {\n",
              "    background-color: var(--disabled-bg-color);\n",
              "    fill: var(--disabled-fill-color);\n",
              "    box-shadow: none;\n",
              "  }\n",
              "\n",
              "  .colab-df-spinner {\n",
              "    border: 2px solid var(--fill-color);\n",
              "    border-color: transparent;\n",
              "    border-bottom-color: var(--fill-color);\n",
              "    animation:\n",
              "      spin 1s steps(1) infinite;\n",
              "  }\n",
              "\n",
              "  @keyframes spin {\n",
              "    0% {\n",
              "      border-color: transparent;\n",
              "      border-bottom-color: var(--fill-color);\n",
              "      border-left-color: var(--fill-color);\n",
              "    }\n",
              "    20% {\n",
              "      border-color: transparent;\n",
              "      border-left-color: var(--fill-color);\n",
              "      border-top-color: var(--fill-color);\n",
              "    }\n",
              "    30% {\n",
              "      border-color: transparent;\n",
              "      border-left-color: var(--fill-color);\n",
              "      border-top-color: var(--fill-color);\n",
              "      border-right-color: var(--fill-color);\n",
              "    }\n",
              "    40% {\n",
              "      border-color: transparent;\n",
              "      border-right-color: var(--fill-color);\n",
              "      border-top-color: var(--fill-color);\n",
              "    }\n",
              "    60% {\n",
              "      border-color: transparent;\n",
              "      border-right-color: var(--fill-color);\n",
              "    }\n",
              "    80% {\n",
              "      border-color: transparent;\n",
              "      border-right-color: var(--fill-color);\n",
              "      border-bottom-color: var(--fill-color);\n",
              "    }\n",
              "    90% {\n",
              "      border-color: transparent;\n",
              "      border-bottom-color: var(--fill-color);\n",
              "    }\n",
              "  }\n",
              "</style>\n",
              "\n",
              "  <script>\n",
              "    async function quickchart(key) {\n",
              "      const quickchartButtonEl =\n",
              "        document.querySelector('#' + key + ' button');\n",
              "      quickchartButtonEl.disabled = true;  // To prevent multiple clicks.\n",
              "      quickchartButtonEl.classList.add('colab-df-spinner');\n",
              "      try {\n",
              "        const charts = await google.colab.kernel.invokeFunction(\n",
              "            'suggestCharts', [key], {});\n",
              "      } catch (error) {\n",
              "        console.error('Error during call to suggestCharts:', error);\n",
              "      }\n",
              "      quickchartButtonEl.classList.remove('colab-df-spinner');\n",
              "      quickchartButtonEl.classList.add('colab-df-quickchart-complete');\n",
              "    }\n",
              "    (() => {\n",
              "      let quickchartButtonEl =\n",
              "        document.querySelector('#df-e1494dd3-a54d-4dd4-886a-a147c3b57f03 button');\n",
              "      quickchartButtonEl.style.display =\n",
              "        google.colab.kernel.accessAllowed ? 'block' : 'none';\n",
              "    })();\n",
              "  </script>\n",
              "</div>\n",
              "\n",
              "    </div>\n",
              "  </div>\n"
            ],
            "application/vnd.google.colaboratory.intrinsic+json": {
              "type": "dataframe",
              "variable_name": "data_df",
              "summary": "{\n  \"name\": \"data_df\",\n  \"rows\": 26709,\n  \"fields\": [\n    {\n      \"column\": \"article_link\",\n      \"properties\": {\n        \"dtype\": \"string\",\n        \"num_unique_values\": 26708,\n        \"samples\": [\n          \"https://www.theonion.com/isis-recruiter-excited-to-be-talking-to-popular-high-sc-1819579508\",\n          \"https://www.huffingtonpost.com/entry/jimmy-fallon-could-barely-keep-it-together-during-this-cardi-b-interview_us_5a3c01aae4b06d1621b2de98\",\n          \"https://www.huffingtonpost.com/entry/4-ways-to-support-farmtos_b_5906452.html\"\n        ],\n        \"semantic_type\": \"\",\n        \"description\": \"\"\n      }\n    },\n    {\n      \"column\": \"headline\",\n      \"properties\": {\n        \"dtype\": \"string\",\n        \"num_unique_values\": 26602,\n        \"samples\": [\n          \"departing employee not quite important enough for send-off\",\n          \"college student still managing to look like asshole in picture of village he helped build\",\n          \"fun sticker placed on child's ventilator\"\n        ],\n        \"semantic_type\": \"\",\n        \"description\": \"\"\n      }\n    },\n    {\n      \"column\": \"is_sarcastic\",\n      \"properties\": {\n        \"dtype\": \"number\",\n        \"std\": 0,\n        \"min\": 0,\n        \"max\": 1,\n        \"num_unique_values\": 2,\n        \"samples\": [\n          1,\n          0\n        ],\n        \"semantic_type\": \"\",\n        \"description\": \"\"\n      }\n    }\n  ]\n}"
            }
          },
          "metadata": {},
          "execution_count": 4
        }
      ]
    },
    {
      "cell_type": "code",
      "source": [
        "# Possible Outputs\n",
        "print(\"Output possibilities: \", data_df[\"is_sarcastic\"].unique())\n",
        "# Print data shape\n",
        "print(\"Data Shape (rows, cols): \", data_df.shape)"
      ],
      "metadata": {
        "colab": {
          "base_uri": "https://localhost:8080/"
        },
        "id": "tpVQvZn9AQWf",
        "outputId": "6b36af46-b200-4199-80de-07e7874e7aec"
      },
      "execution_count": 14,
      "outputs": [
        {
          "output_type": "stream",
          "name": "stdout",
          "text": [
            "Output possibilities:  [0 1]\n",
            "Data Shape (rows, cols):  (26709, 3)\n"
          ]
        }
      ]
    },
    {
      "cell_type": "code",
      "source": [
        "# Check the distribution of classes\n",
        "class_distribution = data_df[\"is_sarcastic\"].value_counts()\n",
        "# Print the distribution\n",
        "print(\"Class Distribution:\\n\", class_distribution)"
      ],
      "metadata": {
        "colab": {
          "base_uri": "https://localhost:8080/"
        },
        "id": "1zSupLTi_hDo",
        "outputId": "7ef92d6c-befe-44dc-c892-ee6b2b201fea"
      },
      "execution_count": 11,
      "outputs": [
        {
          "output_type": "stream",
          "name": "stdout",
          "text": [
            "Output possibilities:  [0 1]\n",
            "Data Shape (rows, cols):  (26709, 3)\n",
            "Class Distribution:\n",
            " is_sarcastic\n",
            "0    14985\n",
            "1    11724\n",
            "Name: count, dtype: int64\n"
          ]
        }
      ]
    },
    {
      "cell_type": "code",
      "source": [
        "# Visualize the distribution using a bar plot\n",
        "import matplotlib.pyplot as plt\n",
        "plt.figure(figsize=(8, 6))\n",
        "plt.bar(class_distribution.index, class_distribution.values)\n",
        "plt.title('Class Distribution')\n",
        "plt.xlabel('Sarcastic')\n",
        "plt.ylabel('Number of Samples')\n",
        "plt.xticks(rotation=45, ha='right')  # Rotate x-axis labels for better readability\n",
        "plt.tight_layout()\n",
        "plt.show()"
      ],
      "metadata": {
        "colab": {
          "base_uri": "https://localhost:8080/",
          "height": 607
        },
        "id": "4FRH6Mjy_-6h",
        "outputId": "40ab4dda-3be0-4761-c768-c2942a1adc8f"
      },
      "execution_count": 13,
      "outputs": [
        {
          "output_type": "display_data",
          "data": {
            "text/plain": [
              "<Figure size 800x600 with 1 Axes>"
            ],
            "image/png": "[encoded data removed]"
          },
          "metadata": {}
        }
      ]
    },
    {
      "cell_type": "markdown",
      "source": [
        "# 4. Data Splitting"
      ],
      "metadata": {
        "id": "dk2soPGi_DOu"
      }
    },
    {
      "cell_type": "code",
      "source": [
        "X_train, X_test, y_train, y_test = train_test_split(np.array(data_df[\"headline\"]), np.array(data_df[\"is_sarcastic\"]), test_size=0.3)\n",
        "X_val, X_test, y_val, y_test = train_test_split(X_test, y_test, test_size=0.5)"
      ],
      "metadata": {
        "id": "Ccb6KVvj-9AF"
      },
      "execution_count": 5,
      "outputs": []
    },
    {
      "cell_type": "code",
      "source": [
        "print(\"Training set is: \", X_train.shape[0], \" rows which is \", round(X_train.shape[0]/data_df.shape[0],4)*100, \"%\")\n",
        "print(\"Validation set is: \",X_val.shape[0], \" rows which is \", round(X_val.shape[0]/data_df.shape[0],4)*100, \"%\")\n",
        "print(\"Testing set is: \",X_test.shape[0], \" rows which is \", round(X_test.shape[0]/data_df.shape[0],4)*100, \"%\")"
      ],
      "metadata": {
        "colab": {
          "base_uri": "https://localhost:8080/"
        },
        "id": "lTTUhIPz_GWF",
        "outputId": "10b1b208-51ac-4fe3-9d4a-031bc8170871"
      },
      "execution_count": 6,
      "outputs": [
        {
          "output_type": "stream",
          "name": "stdout",
          "text": [
            "Training set is:  18696  rows which is  70.0 %\n",
            "Validation set is:  4006  rows which is  15.0 %\n",
            "Testing set is:  4007  rows which is  15.0 %\n"
          ]
        }
      ]
    },
    {
      "cell_type": "markdown",
      "source": [
        "# 5. Download Model and tokenizer"
      ],
      "metadata": {
        "id": "a0fgOR68AZ1A"
      }
    },
    {
      "cell_type": "code",
      "source": [
        "# Initialize the tokenizer using the pre-trained \"bert-base-uncased\" model\n",
        "# This tokenizer will be used to convert text into tokens that BERT can understand\n",
        "tokenizer = AutoTokenizer.from_pretrained(\"bert-base-uncased\")\n",
        "\n",
        "# Initialize the BERT model using the pre-trained \"bert-base-uncased\" model\n",
        "# This model will be used to extract features from the text\n",
        "bert_model = AutoModel.from_pretrained(\"bert-base-uncased\")"
      ],
      "metadata": {
        "id": "OS6qhI-MAbMd"
      },
      "execution_count": 16,
      "outputs": []
    },
    {
      "cell_type": "markdown",
      "source": [
        "# 6. Determine an appropriate max_length"
      ],
      "metadata": {
        "id": "D6zKi3E7Aqf4"
      }
    },
    {
      "cell_type": "code",
      "source": [
        "# Calculate token lengths\n",
        "token_lengths = [len(tokenizer.encode(x)) for x in data_df[\"headline\"]]"
      ],
      "metadata": {
        "id": "7nn8IsqoC_ui"
      },
      "execution_count": null,
      "outputs": []
    },
    {
      "cell_type": "code",
      "source": [
        "# Distribution of token lengths\n",
        "plt.hist(token_lengths, bins=int(max(token_lengths)))\n",
        "plt.title('Distribution of Token Lengths')\n",
        "plt.xlabel('Token Length')\n",
        "plt.ylabel('Frequency')\n",
        "plt.show()"
      ],
      "metadata": {
        "colab": {
          "base_uri": "https://localhost:8080/",
          "height": 472
        },
        "id": "8k_6A4SvDCKN",
        "outputId": "058d61a0-571e-4dc8-e288-1a5189667c2e"
      },
      "execution_count": 34,
      "outputs": [
        {
          "output_type": "display_data",
          "data": {
            "text/plain": [
              "<Figure size 640x480 with 1 Axes>"
            ],
            "image/png": "[encoded data removed]"
          },
          "metadata": {}
        }
      ]
    },
    {
      "cell_type": "code",
      "source": [
        "# Determine an acceptable max_length\n",
        "acceptable_max_length = int(np.percentile(token_lengths, 99.5))\n",
        "print(acceptable_max_length)"
      ],
      "metadata": {
        "colab": {
          "base_uri": "https://localhost:8080/"
        },
        "id": "-GJZDKlbBpo5",
        "outputId": "ec5ce2c9-211e-4873-d029-0306e342996b"
      },
      "execution_count": 44,
      "outputs": [
        {
          "output_type": "stream",
          "name": "stdout",
          "text": [
            "28\n"
          ]
        }
      ]
    },
    {
      "cell_type": "markdown",
      "source": [
        "# 7. Dataset Object"
      ],
      "metadata": {
        "id": "YUtVWQn9E7p5"
      }
    },
    {
      "cell_type": "code",
      "source": [
        "class dataset(Dataset):\n",
        "    def __init__(self, X, Y):\n",
        "        self.X = [tokenizer(x,\n",
        "                            max_length = acceptable_max_length,\n",
        "                            truncation = True,\n",
        "                            padding = 'max_length',\n",
        "                            return_tensors='pt').to(device)\n",
        "                  for x in X\n",
        "                 ]\n",
        "\n",
        "        self.Y = torch.tensor(Y, dtype = torch.float32).to(device)\n",
        "    def __len__(self):\n",
        "        return len(self.X)\n",
        "    def __getitem__(self, index):\n",
        "        return self.X[index], self.Y[index]\n",
        "\n",
        "training_data = dataset(X_train, y_train)\n",
        "validation_data = dataset(X_val, y_val)\n",
        "testing_data = dataset(X_test, y_test)"
      ],
      "metadata": {
        "id": "LUjYtt_2AsVc"
      },
      "execution_count": 45,
      "outputs": []
    },
    {
      "cell_type": "markdown",
      "source": [
        "# 8. Training Hyper Parameters"
      ],
      "metadata": {
        "id": "Kbzz5hm_E1sq"
      }
    },
    {
      "cell_type": "code",
      "source": [
        "BATCH_SIZE = 32\n",
        "EPOCHS = 25\n",
        "LR = 1e-4"
      ],
      "metadata": {
        "id": "yN9iAltuE4sb"
      },
      "execution_count": 46,
      "outputs": []
    },
    {
      "cell_type": "markdown",
      "source": [
        "# 9. Data Loaders"
      ],
      "metadata": {
        "id": "baQccKBLFV_K"
      }
    },
    {
      "cell_type": "code",
      "source": [
        "train_dataloader = DataLoader(training_data, batch_size=BATCH_SIZE, shuffle= True)\n",
        "validation_dataloader = DataLoader(validation_data, batch_size=BATCH_SIZE, shuffle= True)\n",
        "testing_dataloader = DataLoader(testing_data, batch_size=BATCH_SIZE, shuffle= True)"
      ],
      "metadata": {
        "id": "Ho3VisJcFTbb"
      },
      "execution_count": 47,
      "outputs": []
    },
    {
      "cell_type": "markdown",
      "source": [
        "# 9. Model Class"
      ],
      "metadata": {
        "id": "o5_cd0YVF-Xk"
      }
    },
    {
      "source": [
        "class MyModel(nn.Module):\n",
        "    \"\"\"\n",
        "    A custom model class that uses BERT for binary classification.\n",
        "\n",
        "    Args:\n",
        "        bert: The pre-trained BERT model.\n",
        "    \"\"\"\n",
        "    def __init__(self, bert):\n",
        "        \"\"\"\n",
        "        Initializes the model.\n",
        "\n",
        "        Args:\n",
        "            bert: The pre-trained BERT model.\n",
        "        \"\"\"\n",
        "        super(MyModel, self).__init__()  # Initialize the parent class (nn.Module)\n",
        "\n",
        "        self.bert = bert  # Store the pre-trained BERT model\n",
        "        self.dropout = nn.Dropout(0.25)  # Dropout layer for regularization (25% dropout rate)\n",
        "        self.linear1 = nn.Linear(768, 384)  # First linear layer (input: 768, output: 384)\n",
        "        self.linear2 = nn.Linear(384, 1)  # Second linear layer (input: 384, output: 1)\n",
        "        self.sigmoid = nn.Sigmoid()  # Sigmoid activation function for binary classification\n",
        "\n",
        "    def forward(self, input_ids, attention_mask):\n",
        "        \"\"\"\n",
        "        Performs the forward propagation of the model.\n",
        "\n",
        "        Args:\n",
        "            input_ids: The token IDs of the input text.\n",
        "            attention_mask: The attention mask indicating which tokens to attend to.\n",
        "\n",
        "        Returns:\n",
        "            The model's output (a probability score for the binary classification).\n",
        "        \"\"\"\n",
        "        # Get the pooled output from BERT (the output of the [CLS] token)\n",
        "        pooled_output = self.bert(input_ids, attention_mask, return_dict=False)[0][:, 0]\n",
        "\n",
        "        # Pass the pooled output through the first linear layer\n",
        "        output = self.linear1(pooled_output)\n",
        "\n",
        "        # Apply dropout for regularization\n",
        "        output = self.dropout(output)\n",
        "\n",
        "        # Pass the output through the second linear layer\n",
        "        output = self.linear2(output)\n",
        "\n",
        "        # Apply the sigmoid activation function to get the final output\n",
        "        output = self.sigmoid(output)\n",
        "\n",
        "        return output  # Return the model's output"
      ],
      "cell_type": "code",
      "metadata": {
        "id": "sfBHKJ8uGcNm"
      },
      "execution_count": 48,
      "outputs": []
    },
    {
      "cell_type": "markdown",
      "source": [
        "# 10. Pretraining"
      ],
      "metadata": {
        "id": "BdDh4atEGkdd"
      }
    },
    {
      "source": [
        "# Freeze the pre-trained BERT model weights\n",
        "# This prevents them from being updated during training\n",
        "for param in bert_model.parameters():\n",
        "    param.requires_grad = False\n",
        "\n",
        "# Create an instance of the custom model, passing the pre-trained BERT model\n",
        "model = MyModel(bert_model)\n",
        "\n",
        "# Move the model to the specified device (e.g., CUDA if available)\n",
        "model.to(device)"
      ],
      "cell_type": "code",
      "metadata": {
        "colab": {
          "base_uri": "https://localhost:8080/"
        },
        "id": "yo5Akx6OG1jn",
        "outputId": "6ef7fb39-6ae7-4006-9c7e-4b8b657c54e4"
      },
      "execution_count": 49,
      "outputs": [
        {
          "output_type": "execute_result",
          "data": {
            "text/plain": [
              "MyModel(\n",
              "  (bert): BertModel(\n",
              "    (embeddings): BertEmbeddings(\n",
              "      (word_embeddings): Embedding(30522, 768, padding_idx=0)\n",
              "      (position_embeddings): Embedding(512, 768)\n",
              "      (token_type_embeddings): Embedding(2, 768)\n",
              "      (LayerNorm): LayerNorm((768,), eps=1e-12, elementwise_affine=True)\n",
              "      (dropout): Dropout(p=0.1, inplace=False)\n",
              "    )\n",
              "    (encoder): BertEncoder(\n",
              "      (layer): ModuleList(\n",
              "        (0-11): 12 x BertLayer(\n",
              "          (attention): BertAttention(\n",
              "            (self): BertSdpaSelfAttention(\n",
              "              (query): Linear(in_features=768, out_features=768, bias=True)\n",
              "              (key): Linear(in_features=768, out_features=768, bias=True)\n",
              "              (value): Linear(in_features=768, out_features=768, bias=True)\n",
              "              (dropout): Dropout(p=0.1, inplace=False)\n",
              "            )\n",
              "            (output): BertSelfOutput(\n",
              "              (dense): Linear(in_features=768, out_features=768, bias=True)\n",
              "              (LayerNorm): LayerNorm((768,), eps=1e-12, elementwise_affine=True)\n",
              "              (dropout): Dropout(p=0.1, inplace=False)\n",
              "            )\n",
              "          )\n",
              "          (intermediate): BertIntermediate(\n",
              "            (dense): Linear(in_features=768, out_features=3072, bias=True)\n",
              "            (intermediate_act_fn): GELUActivation()\n",
              "          )\n",
              "          (output): BertOutput(\n",
              "            (dense): Linear(in_features=3072, out_features=768, bias=True)\n",
              "            (LayerNorm): LayerNorm((768,), eps=1e-12, elementwise_affine=True)\n",
              "            (dropout): Dropout(p=0.1, inplace=False)\n",
              "          )\n",
              "        )\n",
              "      )\n",
              "    )\n",
              "    (pooler): BertPooler(\n",
              "      (dense): Linear(in_features=768, out_features=768, bias=True)\n",
              "      (activation): Tanh()\n",
              "    )\n",
              "  )\n",
              "  (dropout): Dropout(p=0.25, inplace=False)\n",
              "  (linear1): Linear(in_features=768, out_features=384, bias=True)\n",
              "  (linear2): Linear(in_features=384, out_features=1, bias=True)\n",
              "  (sigmoid): Sigmoid()\n",
              ")"
            ]
          },
          "metadata": {},
          "execution_count": 49
        }
      ]
    },
    {
      "cell_type": "markdown",
      "source": [
        "# 11. Loss and Optimizer"
      ],
      "metadata": {
        "id": "v4oRTizEG47u"
      }
    },
    {
      "cell_type": "code",
      "source": [
        "criterion = nn.BCELoss()\n",
        "optimizer = Adam(model.parameters(), lr= LR)"
      ],
      "metadata": {
        "id": "S1lW5rNfG7aF"
      },
      "execution_count": 50,
      "outputs": []
    },
    {
      "cell_type": "markdown",
      "source": [
        "# 12. Training Loop"
      ],
      "metadata": {
        "id": "wmXxMdjjHCWX"
      }
    },
    {
      "source": [
        "# Initialize lists to store training and validation metrics\n",
        "total_loss_train_plot = []  # Stores training losses for plotting\n",
        "total_loss_validation_plot = []  # Stores validation losses for plotting\n",
        "total_acc_train_plot = []  # Stores training accuracies for plotting\n",
        "total_acc_validation_plot = []  # Stores validation accuracies for plotting\n",
        "\n",
        "# Iterate over the specified number of epochs\n",
        "for epoch in range(EPOCHS):\n",
        "    # Initialize metrics for the current epoch\n",
        "    total_acc_train = 0  # Total training accuracy for the epoch\n",
        "    total_loss_train = 0  # Total training loss for the epoch\n",
        "    total_acc_val = 0  # Total validation accuracy for the epoch\n",
        "    total_loss_val = 0  # Total validation loss for the epoch\n",
        "\n",
        "    # Training loop\n",
        "    for indx, data in enumerate(train_dataloader):\n",
        "        # Get the input data and labels from the data loader\n",
        "        input, label = data\n",
        "\n",
        "        # Move input and labels to the specified device\n",
        "        input.to(device)\n",
        "        label.to(device)\n",
        "\n",
        "        # Get model predictions\n",
        "        prediction = model(input['input_ids'].squeeze(1),\n",
        "                            input['attention_mask'].squeeze(1)).squeeze(1)\n",
        "\n",
        "        # Calculate the batch loss using the specified criterion\n",
        "        batch_loss = criterion(prediction, label)\n",
        "\n",
        "        # Accumulate the total training loss\n",
        "        total_loss_train += batch_loss.item()\n",
        "\n",
        "        # Calculate and accumulate the training accuracy\n",
        "        acc = ((prediction).round() == label).sum().item()\n",
        "        total_acc_train += acc\n",
        "\n",
        "        # Backpropagate the loss and update model parameters\n",
        "        batch_loss.backward()\n",
        "        optimizer.step()\n",
        "        optimizer.zero_grad()\n",
        "\n",
        "    # Validation loop (no gradient calculation)\n",
        "    with torch.no_grad():\n",
        "        for indx, data in enumerate(validation_dataloader):\n",
        "            # Get the input data and labels from the data loader\n",
        "            input, label = data\n",
        "            input.to(device)\n",
        "            label.to(device)\n",
        "\n",
        "            # Get model predictions\n",
        "            prediction = model(input['input_ids'].squeeze(1),\n",
        "                                input['attention_mask'].squeeze(1)).squeeze(1)\n",
        "\n",
        "            # Calculate the batch validation loss\n",
        "            batch_loss_val = criterion(prediction, label)\n",
        "            total_loss_val += batch_loss_val.item()\n",
        "\n",
        "            # Calculate and accumulate the validation accuracy\n",
        "            acc = ((prediction).round() == label).sum().item()\n",
        "            total_acc_val += acc\n",
        "\n",
        "    # Append metrics to the lists for plotting\n",
        "    total_loss_train_plot.append(round(total_loss_train / 1000, 4))\n",
        "    total_loss_validation_plot.append(round(total_loss_val / 100, 4))\n",
        "    total_acc_train_plot.append(round(total_acc_train / (training_data.__len__()) * 100, 4))\n",
        "    total_acc_validation_plot.append(round(total_acc_val / (validation_data.__len__()) * 100, 4))\n",
        "\n",
        "    # Print the epoch results\n",
        "    print(f'''Epoch no. {epoch + 1} Train Loss: {total_loss_train / 1000:.4f} Train Accuracy: {(total_acc_train / (training_data.__len__()) * 100):.4f} Validation Loss: {total_loss_val / 100:.4f} Validation Accuracy: {(total_acc_val / (validation_data.__len__()) * 100):.4f}''')\n",
        "    print(\"=\" * 50)"
      ],
      "cell_type": "code",
      "metadata": {
        "colab": {
          "base_uri": "https://localhost:8080/"
        },
        "id": "VCWVxy56NQkU",
        "outputId": "ea214782-caec-411b-f84f-126b828f9213"
      },
      "execution_count": 51,
      "outputs": [
        {
          "output_type": "stream",
          "name": "stdout",
          "text": [
            "Epoch no. 1 Train Loss: 0.2622 Train Accuracy: 80.0706 Validation Loss: 0.5056 Validation Accuracy: 81.6276\n",
            "==================================================\n",
            "Epoch no. 2 Train Loss: 0.2137 Train Accuracy: 84.2266 Validation Loss: 0.4508 Validation Accuracy: 85.0724\n",
            "==================================================\n",
            "Epoch no. 3 Train Loss: 0.2015 Train Accuracy: 84.9754 Validation Loss: 0.4281 Validation Accuracy: 85.3969\n",
            "==================================================\n",
            "Epoch no. 4 Train Loss: 0.1938 Train Accuracy: 85.7563 Validation Loss: 0.4206 Validation Accuracy: 85.7214\n",
            "==================================================\n",
            "Epoch no. 5 Train Loss: 0.1896 Train Accuracy: 86.0291 Validation Loss: 0.4096 Validation Accuracy: 86.3954\n",
            "==================================================\n",
            "Epoch no. 6 Train Loss: 0.1876 Train Accuracy: 86.2698 Validation Loss: 0.4111 Validation Accuracy: 85.9211\n",
            "==================================================\n",
            "Epoch no. 7 Train Loss: 0.1846 Train Accuracy: 86.6389 Validation Loss: 0.4059 Validation Accuracy: 86.2456\n",
            "==================================================\n",
            "Epoch no. 8 Train Loss: 0.1818 Train Accuracy: 86.6389 Validation Loss: 0.4028 Validation Accuracy: 86.0459\n",
            "==================================================\n",
            "Epoch no. 9 Train Loss: 0.1816 Train Accuracy: 86.5372 Validation Loss: 0.3967 Validation Accuracy: 86.3704\n",
            "==================================================\n",
            "Epoch no. 10 Train Loss: 0.1790 Train Accuracy: 87.0347 Validation Loss: 0.3989 Validation Accuracy: 86.0459\n",
            "==================================================\n",
            "Epoch no. 11 Train Loss: 0.1789 Train Accuracy: 86.6977 Validation Loss: 0.4083 Validation Accuracy: 85.8962\n",
            "==================================================\n",
            "Epoch no. 12 Train Loss: 0.1787 Train Accuracy: 86.9170 Validation Loss: 0.4001 Validation Accuracy: 86.3455\n",
            "==================================================\n",
            "Epoch no. 13 Train Loss: 0.1783 Train Accuracy: 86.8635 Validation Loss: 0.3987 Validation Accuracy: 86.2956\n",
            "==================================================\n",
            "Epoch no. 14 Train Loss: 0.1779 Train Accuracy: 87.1202 Validation Loss: 0.3944 Validation Accuracy: 86.8947\n",
            "==================================================\n",
            "Epoch no. 15 Train Loss: 0.1754 Train Accuracy: 87.2914 Validation Loss: 0.3962 Validation Accuracy: 86.5701\n",
            "==================================================\n",
            "Epoch no. 16 Train Loss: 0.1753 Train Accuracy: 87.2486 Validation Loss: 0.4056 Validation Accuracy: 86.0709\n",
            "==================================================\n",
            "Epoch no. 17 Train Loss: 0.1761 Train Accuracy: 87.1737 Validation Loss: 0.4114 Validation Accuracy: 85.9461\n",
            "==================================================\n",
            "Epoch no. 18 Train Loss: 0.1755 Train Accuracy: 87.2005 Validation Loss: 0.4016 Validation Accuracy: 86.3954\n",
            "==================================================\n",
            "Epoch no. 19 Train Loss: 0.1758 Train Accuracy: 87.2593 Validation Loss: 0.3984 Validation Accuracy: 86.8447\n",
            "==================================================\n",
            "Epoch no. 20 Train Loss: 0.1738 Train Accuracy: 87.3609 Validation Loss: 0.3991 Validation Accuracy: 86.6450\n",
            "==================================================\n",
            "Epoch no. 21 Train Loss: 0.1750 Train Accuracy: 87.3395 Validation Loss: 0.4156 Validation Accuracy: 86.1707\n",
            "==================================================\n",
            "Epoch no. 22 Train Loss: 0.1744 Train Accuracy: 87.2807 Validation Loss: 0.3983 Validation Accuracy: 86.4453\n",
            "==================================================\n",
            "Epoch no. 23 Train Loss: 0.1739 Train Accuracy: 87.5321 Validation Loss: 0.4060 Validation Accuracy: 86.0459\n",
            "==================================================\n",
            "Epoch no. 24 Train Loss: 0.1736 Train Accuracy: 87.3235 Validation Loss: 0.4053 Validation Accuracy: 86.3455\n",
            "==================================================\n",
            "Epoch no. 25 Train Loss: 0.1734 Train Accuracy: 87.2967 Validation Loss: 0.3982 Validation Accuracy: 86.5701\n",
            "==================================================\n"
          ]
        }
      ]
    },
    {
      "cell_type": "markdown",
      "source": [
        "# 13. Testing"
      ],
      "metadata": {
        "id": "yrLvQp5RNVMz"
      }
    },
    {
      "cell_type": "code",
      "source": [
        "# Testing loop (no gradient calculation)\n",
        "with torch.no_grad():  # Disable gradient calculation during testing\n",
        "    total_loss_test = 0  # Initialize total test loss\n",
        "    total_acc_test = 0  # Initialize total test accuracy\n",
        "\n",
        "    # Iterate over the testing data loader\n",
        "    for indx, data in enumerate(testing_dataloader):\n",
        "        # Get the input data and labels from the data loader\n",
        "        input, label = data\n",
        "\n",
        "        # Move input and labels to the specified device\n",
        "        input.to(device)\n",
        "        label.to(device)\n",
        "\n",
        "        # Get model predictions\n",
        "        prediction = model(input['input_ids'].squeeze(1), input['attention_mask'].squeeze(1)).squeeze(1)\n",
        "\n",
        "        # Calculate the batch validation loss\n",
        "        batch_loss_val = criterion(prediction, label)\n",
        "\n",
        "        # Accumulate the total test loss\n",
        "        total_loss_test += batch_loss_val.item()\n",
        "\n",
        "        # Calculate and accumulate the test accuracy\n",
        "        acc = ((prediction).round() == label).sum().item()\n",
        "        total_acc_test += acc\n",
        "\n",
        "# Print the final test accuracy\n",
        "print(f\"Accuracy Score is: {round((total_acc_test/X_test.shape[0])*100, 2)}%\")"
      ],
      "metadata": {
        "colab": {
          "base_uri": "https://localhost:8080/"
        },
        "id": "67I5fas0NW0-",
        "outputId": "bf2e2291-5f1a-4d58-ed32-b9ae29f1d30e"
      },
      "execution_count": 53,
      "outputs": [
        {
          "output_type": "stream",
          "name": "stdout",
          "text": [
            "Accuracy Score is: 86.82%\n"
          ]
        }
      ]
    },
    {
      "cell_type": "markdown",
      "source": [
        "# 14. Plotting and Visualizations"
      ],
      "metadata": {
        "id": "64kSYSk-NeQb"
      }
    },
    {
      "cell_type": "code",
      "source": [
        "fig, axs = plt.subplots(nrows=1, ncols=2, figsize=(15, 5))\n",
        "\n",
        "axs[0].plot(total_loss_train_plot, label='Training Loss')\n",
        "axs[0].plot(total_loss_validation_plot, label='Validation Loss')\n",
        "axs[0].set_title('Training and Validation Loss over Epochs')\n",
        "axs[0].set_xlabel('Epochs')\n",
        "axs[0].set_ylabel('Loss')\n",
        "axs[0].set_ylim([0, 1])\n",
        "axs[0].legend()\n",
        "\n",
        "axs[1].plot(total_acc_train_plot, label='Training Accuracy')\n",
        "axs[1].plot(total_acc_validation_plot, label='Validation Accuracy')\n",
        "axs[1].set_title('Training and Validation Accuracy over Epochs')\n",
        "axs[1].set_xlabel('Epochs')\n",
        "axs[1].set_ylabel('Accuracy')\n",
        "axs[1].set_ylim([0, 100])\n",
        "axs[1].legend()\n",
        "\n",
        "plt.tight_layout()\n",
        "\n",
        "plt.show()"
      ],
      "metadata": {
        "colab": {
          "base_uri": "https://localhost:8080/",
          "height": 331
        },
        "id": "vYjntH3ENi6E",
        "outputId": "d45d824d-8149-4b23-dcb0-5a2c5840f1aa"
      },
      "execution_count": 54,
      "outputs": [
        {
          "output_type": "display_data",
          "data": {
            "text/plain": [
              "<Figure size 1500x500 with 2 Axes>"
            ],
            "image/png": "[encoded data removed]"
          },
          "metadata": {}
        }
      ]
    }
  ]
}